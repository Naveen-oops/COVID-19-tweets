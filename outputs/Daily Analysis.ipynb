{
 "cells": [
  {
   "cell_type": "code",
   "execution_count": null,
   "metadata": {},
   "outputs": [],
   "source": [
    "tf_list = []\n",
    "day = 1\n",
    "for df in text_list:\n",
    "    counts_df = getTermFrequency(df)\n",
    "    counts_df['day'] = 'May ' + str(day)\n",
    "    tf_list.append(counts_df)\n",
    "    day += 1\n",
    "        \n",
    "tf_days = pd.concat(tf_list)"
   ]
  },
  {
   "cell_type": "code",
   "execution_count": null,
   "metadata": {},
   "outputs": [],
   "source": [
    "sns.set(style=\"darkgrid\")\n",
    "\n",
    "# fig, ax = plt.subplots(figsize = (12, 12))\n",
    "\n",
    "\n",
    "g = sns.FacetGrid(tf_days, col = 'day', col_wrap = int(np.sqrt(len(tf_list))))\n",
    "for ax in g.axes.flatten():\n",
    "    ax.tick_params(labelbottom=True)\n",
    "    plt.setp(ax.get_xticklabels(), rotation=45)\n",
    "#     ax.set_xticklabels(g.get_xticklabels(), rotation=45, horizontalalignment='right')\n",
    "    \n",
    "g.map(sns.barplot, 'word', 'frequency')\n",
    "\n",
    "# ax.show()\n",
    "# plt.savefig(main_dir + 'outputs/tf_grid.png')"
   ]
  }
 ],
 "metadata": {
  "kernelspec": {
   "display_name": "Python 3",
   "language": "python",
   "name": "python3"
  },
  "language_info": {
   "codemirror_mode": {
    "name": "ipython",
    "version": 3
   },
   "file_extension": ".py",
   "mimetype": "text/x-python",
   "name": "python",
   "nbconvert_exporter": "python",
   "pygments_lexer": "ipython3",
   "version": "3.7.1"
  }
 },
 "nbformat": 4,
 "nbformat_minor": 2
}
