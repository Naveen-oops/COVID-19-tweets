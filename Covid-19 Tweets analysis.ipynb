{
 "cells": [
  {
   "cell_type": "markdown",
   "metadata": {},
   "source": [
    "### Libraries"
   ]
  },
  {
   "cell_type": "code",
   "execution_count": 5,
   "metadata": {},
   "outputs": [],
   "source": [
    "import io\n",
    "import random\n",
    "import string\n",
    "import warnings\n",
    "import pandas as pd\n",
    "import numpy as np\n",
    "from sklearn.feature_extraction.text import TfidfVectorizer\n",
    "from sklearn.metrics.pairwise import cosine_similarity\n",
    "import warnings\n",
    "warnings.filterwarnings('ignore')\n",
    "\n",
    "\n",
    "import nltk\n",
    "from nltk.tokenize import sent_tokenize\n",
    "from nltk.corpus import words\n",
    "from nltk.corpus import stopwords\n",
    "from nltk.tokenize import word_tokenize\n",
    "from nltk.stem import WordNetLemmatizer\n",
    "from nltk.stem import PorterStemmer\n",
    "from nltk.sentiment.vader import SentimentIntensityAnalyzer\n",
    "from nltk.sentiment.util import *\n",
    "\n",
    "\n",
    "# sklearn imports\n",
    "from sklearn.model_selection import train_test_split\n",
    "from sklearn.feature_extraction.text import TfidfVectorizer\n",
    "from sklearn.naive_bayes import MultinomialNB\n",
    "from sklearn import metrics\n",
    "\n",
    "\n",
    "# python imports\n",
    "import re\n",
    "import json\n",
    "import os\n",
    "from collections import Counter\n",
    "import datetime as dt\n",
    "from dateutil.parser import parse\n",
    "\n",
    "\n",
    "# Visualization\n",
    "from matplotlib import pyplot as plt\n",
    "from matplotlib import ticker\n",
    "import seaborn as sns\n",
    "from sklearn import feature_extraction, linear_model, model_selection, preprocessing\n",
    "from wordcloud import WordCloud\n",
    "from tqdm import tqdm_notebook\n",
    "import geopandas as gpd\n",
    "\n",
    "\n",
    "# twitter\n",
    "# pip install twarc\n",
    "from twarc import Twarc\n",
    "import carmen\n",
    "import pycountry as pc\n",
    "\n",
    "resolver = carmen.get_resolver()\n",
    "resolver.load_locations()\n",
    "\n",
    "\n",
    "# Saving models\n",
    "import pickle\n",
    "\n",
    "import config"
   ]
  },
  {
   "cell_type": "markdown",
   "metadata": {},
   "source": [
    "#### Function to check if the string is datetime"
   ]
  },
  {
   "cell_type": "code",
   "execution_count": 6,
   "metadata": {},
   "outputs": [],
   "source": [
    "def isDate(string, fuzzy=False):\n",
    "    try: \n",
    "        parse(string, fuzzy=fuzzy)\n",
    "        return True\n",
    "\n",
    "    except ValueError:\n",
    "        return False"
   ]
  },
  {
   "cell_type": "markdown",
   "metadata": {},
   "source": [
    "#### Function to extract the location from the tweets using carmen"
   ]
  },
  {
   "cell_type": "code",
   "execution_count": 7,
   "metadata": {},
   "outputs": [],
   "source": [
    "def getLocation(t):\n",
    "    fields = ['entities', 'user', 'place', 'coordinates']\n",
    "    for field in fields:\n",
    "        if(pd.isna(t[field]) or t[field].isnumeric() or (t[field] == 'True' or t[field] == 'False')):\n",
    "            t[field] = dict()\n",
    "        else:\n",
    "            t[field] = eval(t[field])\n",
    "    \n",
    "    location = resolver.resolve_tweet(t)\n",
    "    return location"
   ]
  },
  {
   "cell_type": "markdown",
   "metadata": {},
   "source": [
    "### Reading the tweets and updating their geodata"
   ]
  },
  {
   "cell_type": "code",
   "execution_count": null,
   "metadata": {},
   "outputs": [
    {
     "name": "stdout",
     "output_type": "stream",
     "text": [
      "reading... 05-01-2020_full.csv\n",
      "05-01-2020_full.csv ..done\n",
      "\n",
      "reading... 05-02-2020_full.csv\n",
      "05-02-2020_full.csv ..done\n",
      "\n",
      "reading... 05-03-2020_full.csv\n",
      "05-03-2020_full.csv ..done\n",
      "\n",
      "reading... 05-04-2020_full.csv\n",
      "05-04-2020_full.csv ..done\n",
      "\n",
      "reading... 05-05-2020_full.csv\n",
      "05-05-2020_full.csv ..done\n",
      "\n",
      "reading... 05-06-2020_full.csv\n",
      "05-06-2020_full.csv ..done\n",
      "\n",
      "reading... 05-07-2020_full.csv\n",
      "05-07-2020_full.csv ..done\n",
      "\n",
      "reading... 05-08-2020_full.csv\n",
      "05-08-2020_full.csv ..done\n",
      "\n",
      "reading... 05-09-2020_full.csv\n",
      "05-09-2020_full.csv ..done\n",
      "\n",
      "reading... 05-10-2020_full.csv\n",
      "05-10-2020_full.csv ..done\n",
      "\n",
      "reading... 05-12-2020_full.csv\n",
      "05-12-2020_full.csv ..done\n",
      "\n",
      "reading... 05-13-2020_full.csv\n",
      "05-13-2020_full.csv ..done\n",
      "\n",
      "reading... 05-14-2020_full.csv\n"
     ]
    }
   ],
   "source": [
    "main_dir = './'\n",
    "full_dir = main_dir + 'data_full/'\n",
    "id_dir = main_dir + 'data_ids/'\n",
    "\n",
    "df_list = []\n",
    "\n",
    "for file in sorted(os.listdir(full_dir)[:-2]):\n",
    "    print('reading... ' + file)\n",
    "    \n",
    "    df_full = pd.read_csv(full_dir + file).drop_duplicates()\n",
    "    df_full = df_full.dropna(subset = ['id'])\n",
    "    \n",
    "    df_full = df_full[df_full.created_at.apply(isDate)]\n",
    "    df_full.to_csv(full_dir + file, index = None)\n",
    "    \n",
    "    df_full['locations'] = df_full.apply(getLocation, axis = 1)\n",
    "    df_full[['id', 'locations']].to_csv(full_dir + 'locations/' + file[:-9] + '_loc.csv', index = None)\n",
    "    df_list.append(df_full)\n",
    "    \n",
    "    print(file + ' ..done')\n",
    "    print()\n",
    "    \n",
    "    \n",
    "    "
   ]
  },
  {
   "cell_type": "markdown",
   "metadata": {},
   "source": [
    "### Merging all the data"
   ]
  },
  {
   "cell_type": "code",
   "execution_count": 17,
   "metadata": {},
   "outputs": [
    {
     "data": {
      "text/html": [
       "<div>\n",
       "<style scoped>\n",
       "    .dataframe tbody tr th:only-of-type {\n",
       "        vertical-align: middle;\n",
       "    }\n",
       "\n",
       "    .dataframe tbody tr th {\n",
       "        vertical-align: top;\n",
       "    }\n",
       "\n",
       "    .dataframe thead th {\n",
       "        text-align: right;\n",
       "    }\n",
       "</style>\n",
       "<table border=\"1\" class=\"dataframe\">\n",
       "  <thead>\n",
       "    <tr style=\"text-align: right;\">\n",
       "      <th></th>\n",
       "      <th>created_at</th>\n",
       "      <th>id</th>\n",
       "      <th>id_str</th>\n",
       "      <th>full_text</th>\n",
       "      <th>truncated</th>\n",
       "      <th>display_text_range</th>\n",
       "      <th>entities</th>\n",
       "      <th>source</th>\n",
       "      <th>in_reply_to_status_id</th>\n",
       "      <th>in_reply_to_status_id_str</th>\n",
       "      <th>...</th>\n",
       "      <th>place</th>\n",
       "      <th>contributors</th>\n",
       "      <th>is_quote_status</th>\n",
       "      <th>retweet_count</th>\n",
       "      <th>favorite_count</th>\n",
       "      <th>favorited</th>\n",
       "      <th>retweeted</th>\n",
       "      <th>possibly_sensitive</th>\n",
       "      <th>lang</th>\n",
       "      <th>locations</th>\n",
       "    </tr>\n",
       "  </thead>\n",
       "  <tbody>\n",
       "    <tr>\n",
       "      <th>326953</th>\n",
       "      <td>Mon May 18 23:58:53 +0000 2020</td>\n",
       "      <td>1262533146643439616</td>\n",
       "      <td>1262533146643439616</td>\n",
       "      <td>A nice interview on the #LunaStationQuaterly w...</td>\n",
       "      <td>False</td>\n",
       "      <td>[0, 227]</td>\n",
       "      <td>{'hashtags': [{'text': 'LunaStationQuaterly', ...</td>\n",
       "      <td>&lt;a href=\"https://mobile.twitter.com\" rel=\"nofo...</td>\n",
       "      <td>NaN</td>\n",
       "      <td>NaN</td>\n",
       "      <td>...</td>\n",
       "      <td>NaN</td>\n",
       "      <td>NaN</td>\n",
       "      <td>False</td>\n",
       "      <td>0</td>\n",
       "      <td>1</td>\n",
       "      <td>False</td>\n",
       "      <td>False</td>\n",
       "      <td>False</td>\n",
       "      <td>en</td>\n",
       "      <td>(False, Location(country='Canada', state='Onta...</td>\n",
       "    </tr>\n",
       "    <tr>\n",
       "      <th>326954</th>\n",
       "      <td>Mon May 18 23:58:52 +0000 2020</td>\n",
       "      <td>1262533142025568258</td>\n",
       "      <td>1262533142025568258</td>\n",
       "      <td>“the Treasury Department had spent very little...</td>\n",
       "      <td>False</td>\n",
       "      <td>[0, 185]</td>\n",
       "      <td>{'hashtags': [{'text': 'Coronavirus', 'indices...</td>\n",
       "      <td>&lt;a href=\"http://twitter.com/download/iphone\" r...</td>\n",
       "      <td>NaN</td>\n",
       "      <td>NaN</td>\n",
       "      <td>...</td>\n",
       "      <td>NaN</td>\n",
       "      <td>NaN</td>\n",
       "      <td>False</td>\n",
       "      <td>96</td>\n",
       "      <td>179</td>\n",
       "      <td>False</td>\n",
       "      <td>False</td>\n",
       "      <td>False</td>\n",
       "      <td>en</td>\n",
       "      <td>None</td>\n",
       "    </tr>\n",
       "    <tr>\n",
       "      <th>326955</th>\n",
       "      <td>Mon May 18 23:59:28 +0000 2020</td>\n",
       "      <td>1262533292689108993</td>\n",
       "      <td>1262533292689108993</td>\n",
       "      <td>#Cuomo + #Covid19 = #CuomoVirus \\n\\n         S...</td>\n",
       "      <td>False</td>\n",
       "      <td>[0, 161]</td>\n",
       "      <td>{'hashtags': [{'text': 'Cuomo', 'indices': [0,...</td>\n",
       "      <td>&lt;a href=\"https://mobile.twitter.com\" rel=\"nofo...</td>\n",
       "      <td>NaN</td>\n",
       "      <td>NaN</td>\n",
       "      <td>...</td>\n",
       "      <td>NaN</td>\n",
       "      <td>NaN</td>\n",
       "      <td>False</td>\n",
       "      <td>0</td>\n",
       "      <td>1</td>\n",
       "      <td>False</td>\n",
       "      <td>False</td>\n",
       "      <td>NaN</td>\n",
       "      <td>en</td>\n",
       "      <td>None</td>\n",
       "    </tr>\n",
       "    <tr>\n",
       "      <th>326956</th>\n",
       "      <td>Mon May 18 23:59:27 +0000 2020</td>\n",
       "      <td>1262533288683544577</td>\n",
       "      <td>1262533288683544577</td>\n",
       "      <td>#COVID19 fallout provides window for #tortrefo...</td>\n",
       "      <td>False</td>\n",
       "      <td>[0, 286]</td>\n",
       "      <td>{'hashtags': [{'text': 'COVID19', 'indices': [...</td>\n",
       "      <td>&lt;a href=\"http://twitter.com/#!/download/ipad\" ...</td>\n",
       "      <td>NaN</td>\n",
       "      <td>NaN</td>\n",
       "      <td>...</td>\n",
       "      <td>NaN</td>\n",
       "      <td>NaN</td>\n",
       "      <td>False</td>\n",
       "      <td>0</td>\n",
       "      <td>0</td>\n",
       "      <td>False</td>\n",
       "      <td>False</td>\n",
       "      <td>False</td>\n",
       "      <td>en</td>\n",
       "      <td>(False, Location(country='United States', stat...</td>\n",
       "    </tr>\n",
       "    <tr>\n",
       "      <th>326957</th>\n",
       "      <td>Mon May 18 23:59:29 +0000 2020</td>\n",
       "      <td>1262533298871468032</td>\n",
       "      <td>1262533298871468032</td>\n",
       "      <td>Smart Steps Mobile is a free download, but now...</td>\n",
       "      <td>False</td>\n",
       "      <td>[0, 238]</td>\n",
       "      <td>{'hashtags': [{'text': 'distancelearning', 'in...</td>\n",
       "      <td>&lt;a href=\"https://commun.it\" rel=\"nofollow\"&gt;Com...</td>\n",
       "      <td>NaN</td>\n",
       "      <td>NaN</td>\n",
       "      <td>...</td>\n",
       "      <td>NaN</td>\n",
       "      <td>NaN</td>\n",
       "      <td>False</td>\n",
       "      <td>0</td>\n",
       "      <td>0</td>\n",
       "      <td>False</td>\n",
       "      <td>False</td>\n",
       "      <td>False</td>\n",
       "      <td>en</td>\n",
       "      <td>None</td>\n",
       "    </tr>\n",
       "  </tbody>\n",
       "</table>\n",
       "<p>5 rows × 26 columns</p>\n",
       "</div>"
      ],
      "text/plain": [
       "                            created_at                   id  \\\n",
       "326953  Mon May 18 23:58:53 +0000 2020  1262533146643439616   \n",
       "326954  Mon May 18 23:58:52 +0000 2020  1262533142025568258   \n",
       "326955  Mon May 18 23:59:28 +0000 2020  1262533292689108993   \n",
       "326956  Mon May 18 23:59:27 +0000 2020  1262533288683544577   \n",
       "326957  Mon May 18 23:59:29 +0000 2020  1262533298871468032   \n",
       "\n",
       "                     id_str  \\\n",
       "326953  1262533146643439616   \n",
       "326954  1262533142025568258   \n",
       "326955  1262533292689108993   \n",
       "326956  1262533288683544577   \n",
       "326957  1262533298871468032   \n",
       "\n",
       "                                                full_text truncated  \\\n",
       "326953  A nice interview on the #LunaStationQuaterly w...     False   \n",
       "326954  “the Treasury Department had spent very little...     False   \n",
       "326955  #Cuomo + #Covid19 = #CuomoVirus \\n\\n         S...     False   \n",
       "326956  #COVID19 fallout provides window for #tortrefo...     False   \n",
       "326957  Smart Steps Mobile is a free download, but now...     False   \n",
       "\n",
       "       display_text_range                                           entities  \\\n",
       "326953           [0, 227]  {'hashtags': [{'text': 'LunaStationQuaterly', ...   \n",
       "326954           [0, 185]  {'hashtags': [{'text': 'Coronavirus', 'indices...   \n",
       "326955           [0, 161]  {'hashtags': [{'text': 'Cuomo', 'indices': [0,...   \n",
       "326956           [0, 286]  {'hashtags': [{'text': 'COVID19', 'indices': [...   \n",
       "326957           [0, 238]  {'hashtags': [{'text': 'distancelearning', 'in...   \n",
       "\n",
       "                                                   source  \\\n",
       "326953  <a href=\"https://mobile.twitter.com\" rel=\"nofo...   \n",
       "326954  <a href=\"http://twitter.com/download/iphone\" r...   \n",
       "326955  <a href=\"https://mobile.twitter.com\" rel=\"nofo...   \n",
       "326956  <a href=\"http://twitter.com/#!/download/ipad\" ...   \n",
       "326957  <a href=\"https://commun.it\" rel=\"nofollow\">Com...   \n",
       "\n",
       "        in_reply_to_status_id in_reply_to_status_id_str  ... place  \\\n",
       "326953                    NaN                       NaN  ...   NaN   \n",
       "326954                    NaN                       NaN  ...   NaN   \n",
       "326955                    NaN                       NaN  ...   NaN   \n",
       "326956                    NaN                       NaN  ...   NaN   \n",
       "326957                    NaN                       NaN  ...   NaN   \n",
       "\n",
       "        contributors is_quote_status retweet_count favorite_count favorited  \\\n",
       "326953           NaN           False             0              1     False   \n",
       "326954           NaN           False            96            179     False   \n",
       "326955           NaN           False             0              1     False   \n",
       "326956           NaN           False             0              0     False   \n",
       "326957           NaN           False             0              0     False   \n",
       "\n",
       "       retweeted  possibly_sensitive lang  \\\n",
       "326953     False               False   en   \n",
       "326954     False               False   en   \n",
       "326955     False                 NaN   en   \n",
       "326956     False               False   en   \n",
       "326957     False               False   en   \n",
       "\n",
       "                                                locations  \n",
       "326953  (False, Location(country='Canada', state='Onta...  \n",
       "326954                                               None  \n",
       "326955                                               None  \n",
       "326956  (False, Location(country='United States', stat...  \n",
       "326957                                               None  \n",
       "\n",
       "[5 rows x 26 columns]"
      ]
     },
     "execution_count": 17,
     "metadata": {},
     "output_type": "execute_result"
    }
   ],
   "source": [
    "df = pd.concat(df_list)\n",
    "df.reset_index().drop('index', axis = 1)\n",
    "df.tail()"
   ]
  },
  {
   "cell_type": "markdown",
   "metadata": {},
   "source": [
    "### Temporal frequency of tweets"
   ]
  },
  {
   "cell_type": "code",
   "execution_count": 18,
   "metadata": {},
   "outputs": [
    {
     "data": {
      "image/png": "[encoded data removed]",
      "text/plain": [
       "<Figure size 1800x360 with 1 Axes>"
      ]
     },
     "metadata": {
      "needs_background": "light"
     },
     "output_type": "display_data"
    }
   ],
   "source": [
    "df = df[df.created_at.apply(isDate)]\n",
    "\n",
    "fig = plt.figure(figsize=(25,5))\n",
    "ax = fig.add_subplot(111)\n",
    "ax.set(title='Temporal tweet frequency worldwide', xlabel='Time', ylabel='Tweet frequency per hour')\n",
    "plt.hist(pd.to_datetime(df.created_at), bins = 24*len(df_list))\n",
    "plt.show()"
   ]
  },
  {
   "cell_type": "markdown",
   "metadata": {},
   "source": [
    "### Spatial frequency of tweets"
   ]
  },
  {
   "cell_type": "code",
   "execution_count": null,
   "metadata": {},
   "outputs": [],
   "source": [
    "locs = df.locations.apply(getCountry).dropna()\n",
    "country_df = pd.DataFrame.from_dict(Counter(locs), columns = ['count'], orient = 'index').reset_index()\n",
    "country_df.columns = ['country', 'count']\n",
    "code_freq_df = pd.merge(country_df, codes_df, on = 'country', how = 'left')\n",
    "code_freq.to_csv('./data_full/locations/country_frequency.csv', index = None)\n",
    "code_freq_df.head()"
   ]
  },
  {
   "cell_type": "code",
   "execution_count": null,
   "metadata": {
    "scrolled": false
   },
   "outputs": [],
   "source": [
    "country_freq_df = pd.merge(world, code_freq_df, on='code')\n",
    "\n",
    "fig, ax = plt.subplots(1, figsize=(30,15))\n",
    "fig.suptitle('Countrywise tweet frequency for a period of ' + str(len(df_list)) + ' days', fontsize = 20)\n",
    "ax.axis('off')\n",
    "country_freq_df.plot(ax=ax, column='count', legend=True, cmap = 'Paired')"
   ]
  },
  {
   "cell_type": "markdown",
   "metadata": {},
   "source": [
    "### Picking out the tweet texts"
   ]
  },
  {
   "cell_type": "code",
   "execution_count": null,
   "metadata": {},
   "outputs": [],
   "source": [
    "text_en = df['full_text']\n",
    "text_en.tail()\n",
    "print(text_en.iloc[0])"
   ]
  },
  {
   "cell_type": "markdown",
   "metadata": {},
   "source": [
    "### Removing URLs from tweets"
   ]
  },
  {
   "cell_type": "code",
   "execution_count": null,
   "metadata": {},
   "outputs": [],
   "source": [
    "text_en_lr = text_en.apply(lambda x: re.sub(r\"https\\S+\", \"\", str(x)))\n",
    "text_en_lr.tail()\n",
    "print(text_en_lr.iloc[0])"
   ]
  },
  {
   "cell_type": "markdown",
   "metadata": {},
   "source": [
    "### Converting all tweets to lowercase"
   ]
  },
  {
   "cell_type": "code",
   "execution_count": null,
   "metadata": {},
   "outputs": [],
   "source": [
    "text_en_lr_lc = text_en_lr.apply(lambda x: x.lower())\n",
    "text_en_lr_lc.head()\n",
    "print(text_en_lr_lc.iloc[0])"
   ]
  },
  {
   "cell_type": "markdown",
   "metadata": {},
   "source": [
    "### Removing punctuations"
   ]
  },
  {
   "cell_type": "code",
   "execution_count": null,
   "metadata": {},
   "outputs": [],
   "source": [
    "text_en_lr_lc_pr = text_en_lr_lc.apply(lambda x: x.translate(str.maketrans('', '', string.punctuation)))\n",
    "text_en_lr_lc_pr.head()\n",
    "print(text_en_lr_lc_pr.iloc[0])"
   ]
  },
  {
   "cell_type": "markdown",
   "metadata": {},
   "source": [
    "### Removing stopwords"
   ]
  },
  {
   "cell_type": "code",
   "execution_count": null,
   "metadata": {},
   "outputs": [],
   "source": [
    "stop_words = set(stopwords.words('english'))\n",
    "stop_words.update(['#coronavirus', '#coronavirusoutbreak', '#coronavirusPandemic', '#covid19', '#covid_19', '#epitwitter', '#ihavecorona', 'amp', 'coronavirus', 'covid19'])\n",
    "\n",
    "text_en_lr_lc_pr_sr = text_en_lr_lc_pr.apply(lambda x: ' '.join([word for word in x.split() if word not in stop_words]))\n",
    "text_en_lr_lc_pr_sr.head()\n",
    "print(text_en_lr_lc_pr_sr.iloc[0])"
   ]
  },
  {
   "cell_type": "markdown",
   "metadata": {},
   "source": [
    "### Concatenating all the tweets into a list of words"
   ]
  },
  {
   "cell_type": "code",
   "execution_count": null,
   "metadata": {},
   "outputs": [],
   "source": [
    "word_list = [word for line in text_en_lr_lc_pr_sr for word in line.split()]\n",
    "word_list[:5]"
   ]
  },
  {
   "cell_type": "markdown",
   "metadata": {},
   "source": [
    "### Calculating the Term Frequency"
   ]
  },
  {
   "cell_type": "code",
   "execution_count": null,
   "metadata": {},
   "outputs": [],
   "source": [
    "sns.set(style=\"darkgrid\")\n",
    "counts = Counter(word_list).most_common(50)\n",
    "counts_df = pd.DataFrame(counts)\n",
    "counts_df\n",
    "counts_df.columns = ['word', 'frequency']\n",
    "\n",
    "fig, ax = plt.subplots(figsize = (12, 12))\n",
    "ax = sns.barplot(y=\"word\", x='frequency', ax = ax, data=counts_df)\n",
    "plt.savefig('wordcount_bar.png')"
   ]
  },
  {
   "cell_type": "code",
   "execution_count": null,
   "metadata": {},
   "outputs": [],
   "source": [
    "wordcloud = WordCloud(\n",
    "    background_color='black',\n",
    "    max_words=50,\n",
    "    max_font_size=40, \n",
    "    scale=5,\n",
    "    random_state=1,\n",
    "    collocations=False,\n",
    "    normalize_plurals=False\n",
    ").generate(' '.join(word_list))\n",
    "\n",
    "\n",
    "plt.figure(figsize = (12, 10), facecolor = None)\n",
    "plt.imshow(wordcloud)\n",
    "plt.axis(\"off\")\n",
    "plt.tight_layout(pad = 0)\n",
    "\n",
    "plt.savefig('wordcloud.png')\n",
    "\n"
   ]
  },
  {
   "cell_type": "markdown",
   "metadata": {},
   "source": [
    "## Sentiment Analysis"
   ]
  },
  {
   "cell_type": "markdown",
   "metadata": {},
   "source": [
    "### Getting the polarity scores for each tweet"
   ]
  },
  {
   "cell_type": "code",
   "execution_count": null,
   "metadata": {},
   "outputs": [],
   "source": [
    "def getCountry(loc):\n",
    "    if(loc):\n",
    "        return loc[1].country\n",
    "    return None"
   ]
  },
  {
   "cell_type": "code",
   "execution_count": null,
   "metadata": {},
   "outputs": [],
   "source": [
    "sid = SentimentIntensityAnalyzer()\n",
    "sentiment_scores = text_en_lr.apply(lambda x: sid.polarity_scores(x))\n",
    "sent_scores_df = pd.DataFrame(list(sentiment_scores)).reset_index().drop('index', axis = 1)\n",
    "\n",
    "sent_scores_df['country'] = df['locations'].apply(getCountry).reset_index().drop('index', axis = 1)\n",
    "\n",
    "sent_scores_df['val'] = sent_scores_df['compound'].apply(lambda x: 'neutral' if x == 0 else ('positive' if x > 0 else 'negative'))\n",
    "sent_scores_df.head()"
   ]
  },
  {
   "cell_type": "markdown",
   "metadata": {},
   "source": [
    "### Plotting the sentiment score counts"
   ]
  },
  {
   "cell_type": "code",
   "execution_count": null,
   "metadata": {},
   "outputs": [],
   "source": [
    "sent_counts = pd.DataFrame.from_dict(Counter(sent_scores_df['val']), orient = 'index').reset_index()\n",
    "sent_counts.columns = ['sentiment', 'count']\n",
    "\n",
    "sns.barplot(y=\"count\", x='sentiment', data=sent_counts)\n",
    "plt.savefig('sentiment.png')"
   ]
  },
  {
   "cell_type": "markdown",
   "metadata": {},
   "source": [
    "### Temporal plot of the sentiments"
   ]
  },
  {
   "cell_type": "code",
   "execution_count": null,
   "metadata": {},
   "outputs": [],
   "source": [
    "sentiments_time_df = pd.DataFrame()\n",
    "sentiments_time_df['time'] = df['created_at']\n",
    "sentiments_time_df['polarity'] = sent_scores_df['compound']\n",
    "sentiments_time_df.index = pd.to_datetime(sentiments_time_df['time'])\n",
    "\n",
    "\n",
    "ot = sentiments_time_df.sample(frac=.001)\n",
    "ot['time'] = pd.to_datetime(ot['time'])\n",
    "ot.index = pd.to_datetime(ot['time'])\n",
    "ot.sort_index(inplace=True)\n",
    "ot['expanding'] = ot['polarity'].expanding().mean()\n",
    "ot['rolling'] = ot['polarity'].rolling('1h').mean()\n",
    "\n",
    "fig = plt.figure(figsize=(20,5))\n",
    "ax = fig.add_subplot(111)\n",
    "ax.scatter(ot['time'],ot['polarity'], label='Tweet Sentiment', s = 10, color = 'y')\n",
    "ax.plot(ot['time'],ot['rolling'], color ='r', label='Rolling Mean', linewidth = 5)\n",
    "ax.plot(ot['time'],ot['expanding'], color='b', label='Expanding Mean', linewidth = 5)\n",
    "ax.set_xlim([dt.date(2020,5,1),dt.date(2020,5,9)])\n",
    "ax.set(title='Tweet Sentiments over Time', xlabel='Date', ylabel='Sentiment polarity')\n",
    "ax.legend(loc='best')\n",
    "fig.tight_layout()\n",
    "plt.savefig('temporal_sentiments.png')\n"
   ]
  },
  {
   "cell_type": "markdown",
   "metadata": {},
   "source": [
    "### Sentiment scores distribution"
   ]
  },
  {
   "cell_type": "code",
   "execution_count": null,
   "metadata": {},
   "outputs": [],
   "source": [
    "fig = plt.figure(figsize=(10,5))\n",
    "ax = fig.add_subplot(111)\n",
    "ax.set(title='Tweet Sentiments distribution', xlabel='polarity', ylabel='frequency')\n",
    "sns.distplot(sentiments_time_df['polarity'], bins=30, ax=ax)\n",
    "# plt.show()\n",
    "plt.savefig('sentiment_distribution.png')"
   ]
  },
  {
   "cell_type": "markdown",
   "metadata": {},
   "source": [
    "### Sentiment scores countrywise "
   ]
  },
  {
   "cell_type": "code",
   "execution_count": null,
   "metadata": {},
   "outputs": [],
   "source": [
    "sent_scores_df.loc[sent_scores_df.country == 'Swaziland', 'country'] = 'Eswatini'\n",
    "sent_scores_df.loc[sent_scores_df.country == 'South Korea', 'country'] = 'Korea, Republic of'\n",
    "sent_scores_df.loc[sent_scores_df.country == 'North Korea', 'country'] = \"Korea, Democratic People's Republic of\"\n",
    "sent_scores_df.loc[sent_scores_df.country == 'Netherlands Antilles', 'country'] = \"Netherlands\"\n",
    "sent_scores_df.loc[sent_scores_df.country == 'Ivory Coast', 'country'] = \"Côte d'Ivoire\"\n",
    "sent_scores_df.loc[sent_scores_df.country == 'Macau-China', 'country'] = 'Macao'\n",
    "sent_scores_df.loc[sent_scores_df.country == 'Democratic Republic of Congo', 'country'] = 'Congo, The Democratic Republic of the'\n",
    "sent_scores_df.loc[sent_scores_df.country == 'Cape Verde', 'country'] = 'Cabo Verde'\n",
    "sent_scores_df.loc[sent_scores_df.country == 'St. Lucia', 'country'] = 'Saint Lucia'\n",
    "sent_scores_df.loc[sent_scores_df.country == 'Palestinian Territories', 'country'] = 'Palestine, State of'\n",
    "\n",
    "country_codes = [(country, pc.countries.search_fuzzy(country)[0].alpha_3) for country in sent_scores_df.country.drop_duplicates().dropna()]"
   ]
  },
  {
   "cell_type": "code",
   "execution_count": null,
   "metadata": {},
   "outputs": [],
   "source": [
    "codes_df = pd.DataFrame(country_codes, columns = ['country', 'code'])\n",
    "codes_df.to_csv('country_codes.csv', index = None)\n",
    "\n",
    "codes_df.head()"
   ]
  },
  {
   "cell_type": "code",
   "execution_count": null,
   "metadata": {},
   "outputs": [],
   "source": [
    "world = geopandas.read_file(\n",
    "    geopandas.datasets.get_path('naturalearth_lowres')\n",
    ")\n",
    "\n",
    "world = world[['name', 'iso_a3', 'geometry']]\n",
    "world.columns = ['country', 'code', 'geometry']\n",
    "world.head()"
   ]
  },
  {
   "cell_type": "code",
   "execution_count": null,
   "metadata": {},
   "outputs": [],
   "source": [
    "sent_country_df = sent_scores_df[['compound', 'country']]\n",
    "sent_means_df = sent_country_df.groupby('country').mean().reset_index()\n",
    "\n",
    "mean_country_df = pd.merge(sent_means_df, codes_df, on = 'country', how = 'left')\n",
    "mean_loc_df = pd.merge(world, mean_country_df, on = 'code', how = 'inner')\n",
    "mean_loc_df = mean_loc_df[['compound', 'code', 'geometry']]\n",
    "mean_loc_df.tail()\n",
    "\n"
   ]
  },
  {
   "cell_type": "code",
   "execution_count": null,
   "metadata": {},
   "outputs": [],
   "source": [
    "fig, ax = plt.subplots(1, figsize=(30,15))\n",
    "ax.axis('off')\n",
    "fig.suptitle('Mean sentiment scores distribution worldwide for a period of ' + str(len(df_list)) + ' days', fontsize = 20)\n",
    "mean_loc_df.plot(ax=ax, column='compound', legend=True, cmap = 'coolwarm')"
   ]
  },
  {
   "cell_type": "markdown",
   "metadata": {},
   "source": [
    "### Word cloud of polar words"
   ]
  },
  {
   "cell_type": "code",
   "execution_count": null,
   "metadata": {},
   "outputs": [],
   "source": [
    "polar_tweets_df = pd.DataFrame()\n",
    "polar_tweets_df['tweet'] = text_en_lr_lc_pr_sr\n",
    "polar_tweets_df['polarity'] = sent_scores_df['val']\n",
    "\n",
    "positive = polar_tweets_df[polar_tweets_df['polarity'] == 'positive']['tweet']\n",
    "negative = polar_tweets_df[polar_tweets_df['polarity'] == 'negative']['tweet']\n",
    "neutral = polar_tweets_df[polar_tweets_df['polarity'] == 'neutral']['tweet']\n",
    "\n",
    "positive_list = [word for line in positive for word in line.split()]\n",
    "negative_list = [word for line in negative for word in line.split()]\n",
    "neutral_list = [word for line in neutral for word in line.split()]\n",
    "\n",
    "positive_cloud = WordCloud(\n",
    "    background_color='black',\n",
    "    max_words=50,\n",
    "    max_font_size=40, \n",
    "    scale=5,\n",
    "    random_state=1,\n",
    "    collocations=False,\n",
    "    normalize_plurals=False\n",
    ").generate(' '.join(positive_list))\n",
    "\n",
    "negative_cloud = WordCloud(\n",
    "    background_color='black',\n",
    "    max_words=50,\n",
    "    max_font_size=40, \n",
    "    scale=5,\n",
    "    random_state=1,\n",
    "    collocations=False,\n",
    "    normalize_plurals=False\n",
    ").generate(' '.join(negative_list))\n",
    "\n",
    "neutral_cloud = WordCloud(\n",
    "    background_color='black',\n",
    "    max_words=50,\n",
    "    max_font_size=40, \n",
    "    scale=5,\n",
    "    random_state=1,\n",
    "    collocations=False,\n",
    "    normalize_plurals=False\n",
    ").generate(' '.join(neutral_list))\n",
    "\n",
    "\n",
    "fig, axs = plt.subplots(2, 2, figsize = (20, 12))\n",
    "# fig.suptitle('Clouds of polar words', fontsize = 30)\n",
    "fig.tight_layout(pad = 0)\n",
    "\n",
    "axs[0, 0].imshow(positive_cloud)\n",
    "axs[0, 0].set_title('Words from positive tweets', fontsize = 20)\n",
    "axs[0, 0].axis('off')\n",
    "# axs[0, 0].tight_layout(pad = 1)\n",
    "\n",
    "axs[0, 1].imshow(negative_cloud)\n",
    "axs[0, 1].set_title('Words from negative tweets', fontsize = 20)\n",
    "axs[0, 1].axis('off')\n",
    "# axs[0, 1].tight_layout(pad = 1)\n",
    "\n",
    "axs[1, 0].imshow(neutral_cloud)\n",
    "axs[1, 0].set_title('Words from neutral tweets', fontsize = 20)\n",
    "axs[1, 0].axis('off')\n",
    "# axs[1, 0].tight_layout(pad = 1)\n",
    "\n",
    "axs[1, 1].imshow(wordcloud)\n",
    "axs[1, 1].set_title('Words from all tweets', fontsize = 20)\n",
    "axs[1, 1].axis('off')\n",
    "# axs[1, 0].tight_layout(pad = 1)\n",
    "plt.savefig('joint_cloud.png')\n",
    "\n"
   ]
  },
  {
   "cell_type": "code",
   "execution_count": null,
   "metadata": {},
   "outputs": [],
   "source": [
    "sorted(os.listdir(full_dir))[:-2]"
   ]
  },
  {
   "cell_type": "code",
   "execution_count": 13,
   "metadata": {},
   "outputs": [
    {
     "data": {
      "text/plain": [
       "17"
      ]
     },
     "execution_count": 13,
     "metadata": {},
     "output_type": "execute_result"
    }
   ],
   "source": [
    "len(df_list)"
   ]
  },
  {
   "cell_type": "code",
   "execution_count": 14,
   "metadata": {},
   "outputs": [
    {
     "data": {
      "text/plain": [
       "(156325, 26)"
      ]
     },
     "execution_count": 14,
     "metadata": {},
     "output_type": "execute_result"
    }
   ],
   "source": [
    "df_list[-1].shape"
   ]
  },
  {
   "cell_type": "code",
   "execution_count": 16,
   "metadata": {},
   "outputs": [
    {
     "data": {
      "text/plain": [
       "156325"
      ]
     },
     "execution_count": 16,
     "metadata": {},
     "output_type": "execute_result"
    }
   ],
   "source": [
    "len(pd.read_csv(full_dir + '05-18-2020_full.csv'))"
   ]
  },
  {
   "cell_type": "code",
   "execution_count": null,
   "metadata": {},
   "outputs": [],
   "source": []
  }
 ],
 "metadata": {
  "kernelspec": {
   "display_name": "Python 3",
   "language": "python",
   "name": "python3"
  },
  "language_info": {
   "codemirror_mode": {
    "name": "ipython",
    "version": 3
   },
   "file_extension": ".py",
   "mimetype": "text/x-python",
   "name": "python",
   "nbconvert_exporter": "python",
   "pygments_lexer": "ipython3",
   "version": "3.7.1"
  }
 },
 "nbformat": 4,
 "nbformat_minor": 4
}
