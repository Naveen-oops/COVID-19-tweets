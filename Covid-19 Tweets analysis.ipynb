{
 "cells": [
  {
   "cell_type": "markdown",
   "metadata": {},
   "source": [
    "### Libraries"
   ]
  },
  {
   "cell_type": "code",
   "execution_count": 79,
   "metadata": {},
   "outputs": [],
   "source": [
    "import io\n",
    "import random\n",
    "import string\n",
    "import warnings\n",
    "import pandas as pd\n",
    "import numpy as np\n",
    "from sklearn.feature_extraction.text import TfidfVectorizer\n",
    "from sklearn.metrics.pairwise import cosine_similarity\n",
    "import warnings\n",
    "warnings.filterwarnings('ignore')\n",
    "\n",
    "\n",
    "import nltk\n",
    "from nltk.tokenize import sent_tokenize\n",
    "from nltk.corpus import words\n",
    "from nltk.corpus import stopwords\n",
    "from nltk.tokenize import word_tokenize\n",
    "from nltk.stem import WordNetLemmatizer\n",
    "from nltk.stem import PorterStemmer\n",
    "from nltk.sentiment.vader import SentimentIntensityAnalyzer\n",
    "from nltk.sentiment.util import *\n",
    "\n",
    "\n",
    "# sklearn imports\n",
    "from sklearn.model_selection import train_test_split\n",
    "from sklearn.feature_extraction.text import TfidfVectorizer\n",
    "from sklearn.naive_bayes import MultinomialNB\n",
    "from sklearn import metrics\n",
    "\n",
    "\n",
    "# python imports\n",
    "import re\n",
    "import json\n",
    "import os\n",
    "from collections import Counter\n",
    "import datetime as dt\n",
    "from dateutil.parser import parse\n",
    "\n",
    "\n",
    "# Visualization\n",
    "from matplotlib import pyplot as plt\n",
    "from matplotlib import ticker\n",
    "import seaborn as sns\n",
    "from sklearn import feature_extraction, linear_model, model_selection, preprocessing\n",
    "from wordcloud import WordCloud\n",
    "from tqdm import tqdm_notebook\n",
    "import geopandas as gpd\n",
    "\n",
    "\n",
    "# twitter\n",
    "# pip install twarc\n",
    "from twarc import Twarc\n",
    "import carmen\n",
    "\n",
    "resolver = carmen.get_resolver()\n",
    "resolver.load_locations()\n",
    "\n",
    "\n",
    "# Saving models\n",
    "import pickle\n",
    "\n",
    "import config"
   ]
  },
  {
   "cell_type": "markdown",
   "metadata": {},
   "source": [
    "### Reading the tweets and updating their geodata"
   ]
  },
  {
   "cell_type": "markdown",
   "metadata": {},
   "source": [
    "#### Function to check if the string is datetime"
   ]
  },
  {
   "cell_type": "code",
   "execution_count": 69,
   "metadata": {},
   "outputs": [],
   "source": [
    "def isDate(string, fuzzy=False):\n",
    "    try: \n",
    "        parse(string, fuzzy=fuzzy)\n",
    "        return True\n",
    "\n",
    "    except ValueError:\n",
    "        return False"
   ]
  },
  {
   "cell_type": "code",
   "execution_count": 28,
   "metadata": {},
   "outputs": [],
   "source": [
    "def getLocation(t):\n",
    "    fields = ['entities', 'user', 'place', 'coordinates']\n",
    "    for field in fields:\n",
    "        if(pd.isna(t[field]) or t[field].isnumeric() or (t[field] == 'True' or t[field] == 'False')):\n",
    "            t[field] = dict()\n",
    "        else:\n",
    "            t[field] = eval(t[field])\n",
    "    \n",
    "    location = resolver.resolve_tweet(t)\n",
    "    return location"
   ]
  },
  {
   "cell_type": "code",
   "execution_count": null,
   "metadata": {},
   "outputs": [
    {
     "name": "stdout",
     "output_type": "stream",
     "text": [
      "reading... 05-01-2020_full.csv\n",
      "05-01-2020_full.csv ..done\n",
      "\n",
      "reading... 05-02-2020_full.csv\n",
      "05-02-2020_full.csv ..done\n",
      "\n",
      "reading... 05-03-2020_full.csv\n",
      "05-03-2020_full.csv ..done\n",
      "\n",
      "reading... 05-04-2020_full.csv\n",
      "05-04-2020_full.csv ..done\n",
      "\n",
      "reading... 05-05-2020_full.csv\n",
      "05-05-2020_full.csv ..done\n",
      "\n",
      "reading... 05-06-2020_full.csv\n",
      "05-06-2020_full.csv ..done\n",
      "\n",
      "reading... 05-07-2020_full.csv\n"
     ]
    }
   ],
   "source": [
    "main_dir = './'\n",
    "full_dir = main_dir + 'data_full/'\n",
    "id_dir = main_dir + 'data_ids/'\n",
    "\n",
    "df_list = []\n",
    "\n",
    "for file in sorted(os.listdir(full_dir)):\n",
    "    print('reading... ' + file)\n",
    "    \n",
    "    df_full = pd.read_csv(full_dir + file).drop_duplicates()\n",
    "#     df_full = df_full.dropna(subset = ['id'])\n",
    "    \n",
    "#     df_full.to_csv(full_dir + file, index = None)\n",
    "#     df_full = df_full[df_full.created_at.apply(isDate)]\n",
    "    \n",
    "    df_full['locations'] = df_full.apply(getLocation, axis = 1)\n",
    "    df_full[['id', 'locations']].to_csv(full_dir + file[:-9] + '_loc.csv', index = None)\n",
    "    df_list.append(df_full)\n",
    "    \n",
    "    print(file + ' ..done')\n",
    "    print()\n",
    "    \n",
    "    \n",
    "    "
   ]
  },
  {
   "cell_type": "markdown",
   "metadata": {},
   "source": [
    "### Reading the country data"
   ]
  },
  {
   "cell_type": "code",
   "execution_count": 180,
   "metadata": {},
   "outputs": [
    {
     "data": {
      "text/html": [
       "<div>\n",
       "<style scoped>\n",
       "    .dataframe tbody tr th:only-of-type {\n",
       "        vertical-align: middle;\n",
       "    }\n",
       "\n",
       "    .dataframe tbody tr th {\n",
       "        vertical-align: top;\n",
       "    }\n",
       "\n",
       "    .dataframe thead th {\n",
       "        text-align: right;\n",
       "    }\n",
       "</style>\n",
       "<table border=\"1\" class=\"dataframe\">\n",
       "  <thead>\n",
       "    <tr style=\"text-align: right;\">\n",
       "      <th></th>\n",
       "      <th>country</th>\n",
       "      <th>geometry</th>\n",
       "    </tr>\n",
       "  </thead>\n",
       "  <tbody>\n",
       "    <tr>\n",
       "      <th>248</th>\n",
       "      <td>Macao</td>\n",
       "      <td>MULTIPOLYGON (((113.55860 22.16303, 113.56943 ...</td>\n",
       "    </tr>\n",
       "    <tr>\n",
       "      <th>249</th>\n",
       "      <td>Ashmore and Cartier Is.</td>\n",
       "      <td>MULTIPOLYGON (((123.59702 -12.42832, 123.59775...</td>\n",
       "    </tr>\n",
       "    <tr>\n",
       "      <th>250</th>\n",
       "      <td>Bajo Nuevo Bank</td>\n",
       "      <td>MULTIPOLYGON (((-79.98929 15.79495, -79.98782 ...</td>\n",
       "    </tr>\n",
       "    <tr>\n",
       "      <th>251</th>\n",
       "      <td>Serranilla Bank</td>\n",
       "      <td>MULTIPOLYGON (((-78.63707 15.86209, -78.64041 ...</td>\n",
       "    </tr>\n",
       "    <tr>\n",
       "      <th>252</th>\n",
       "      <td>Scarborough Reef</td>\n",
       "      <td>MULTIPOLYGON (((117.75389 15.15437, 117.75569 ...</td>\n",
       "    </tr>\n",
       "  </tbody>\n",
       "</table>\n",
       "</div>"
      ],
      "text/plain": [
       "                     country  \\\n",
       "248                    Macao   \n",
       "249  Ashmore and Cartier Is.   \n",
       "250          Bajo Nuevo Bank   \n",
       "251          Serranilla Bank   \n",
       "252         Scarborough Reef   \n",
       "\n",
       "                                              geometry  \n",
       "248  MULTIPOLYGON (((113.55860 22.16303, 113.56943 ...  \n",
       "249  MULTIPOLYGON (((123.59702 -12.42832, 123.59775...  \n",
       "250  MULTIPOLYGON (((-79.98929 15.79495, -79.98782 ...  \n",
       "251  MULTIPOLYGON (((-78.63707 15.86209, -78.64041 ...  \n",
       "252  MULTIPOLYGON (((117.75389 15.15437, 117.75569 ...  "
      ]
     },
     "execution_count": 180,
     "metadata": {},
     "output_type": "execute_result"
    }
   ],
   "source": [
    "shapefile = 'countries.gpkg'\n",
    "#Read shapefile using Geopandas\n",
    "gdf = gpd.read_file(shapefile)[['NAME', 'geometry']]\n",
    "#Rename columns.\n",
    "gdf.columns = ['country', 'geometry']\n",
    "gdf.tail()"
   ]
  },
  {
   "cell_type": "markdown",
   "metadata": {},
   "source": [
    "### Merging all the data"
   ]
  },
  {
   "cell_type": "code",
   "execution_count": 51,
   "metadata": {},
   "outputs": [
    {
     "data": {
      "text/html": [
       "<div>\n",
       "<style scoped>\n",
       "    .dataframe tbody tr th:only-of-type {\n",
       "        vertical-align: middle;\n",
       "    }\n",
       "\n",
       "    .dataframe tbody tr th {\n",
       "        vertical-align: top;\n",
       "    }\n",
       "\n",
       "    .dataframe thead th {\n",
       "        text-align: right;\n",
       "    }\n",
       "</style>\n",
       "<table border=\"1\" class=\"dataframe\">\n",
       "  <thead>\n",
       "    <tr style=\"text-align: right;\">\n",
       "      <th></th>\n",
       "      <th>created_at</th>\n",
       "      <th>id</th>\n",
       "      <th>id_str</th>\n",
       "      <th>full_text</th>\n",
       "      <th>truncated</th>\n",
       "      <th>display_text_range</th>\n",
       "      <th>entities</th>\n",
       "      <th>source</th>\n",
       "      <th>in_reply_to_status_id</th>\n",
       "      <th>in_reply_to_status_id_str</th>\n",
       "      <th>...</th>\n",
       "      <th>place</th>\n",
       "      <th>contributors</th>\n",
       "      <th>is_quote_status</th>\n",
       "      <th>retweet_count</th>\n",
       "      <th>favorite_count</th>\n",
       "      <th>favorited</th>\n",
       "      <th>retweeted</th>\n",
       "      <th>possibly_sensitive</th>\n",
       "      <th>lang</th>\n",
       "      <th>locations</th>\n",
       "    </tr>\n",
       "  </thead>\n",
       "  <tbody>\n",
       "    <tr>\n",
       "      <th>155824</th>\n",
       "      <td>Fri May 15 23:59:03 +0000 2020</td>\n",
       "      <td>1261446025807462400</td>\n",
       "      <td>1261446025807462400</td>\n",
       "      <td>Fun Fact: When one person gets the #Cronavirus...</td>\n",
       "      <td>False</td>\n",
       "      <td>[0, 132]</td>\n",
       "      <td>{'hashtags': [{'text': 'Cronavirus', 'indices'...</td>\n",
       "      <td>&lt;a href=\"http://twitter.com/download/android\" ...</td>\n",
       "      <td>NaN</td>\n",
       "      <td>NaN</td>\n",
       "      <td>...</td>\n",
       "      <td>NaN</td>\n",
       "      <td>NaN</td>\n",
       "      <td>False</td>\n",
       "      <td>0</td>\n",
       "      <td>0</td>\n",
       "      <td>False</td>\n",
       "      <td>False</td>\n",
       "      <td>NaN</td>\n",
       "      <td>en</td>\n",
       "      <td>None</td>\n",
       "    </tr>\n",
       "    <tr>\n",
       "      <th>155825</th>\n",
       "      <td>Fri May 15 23:59:33 +0000 2020</td>\n",
       "      <td>1261446149988216832</td>\n",
       "      <td>1261446149988216832</td>\n",
       "      <td>With all the small and not so small papers (al...</td>\n",
       "      <td>False</td>\n",
       "      <td>[0, 266]</td>\n",
       "      <td>{'hashtags': [{'text': 'COVID19', 'indices': [...</td>\n",
       "      <td>&lt;a href=\"http://twitter.com/download/iphone\" r...</td>\n",
       "      <td>NaN</td>\n",
       "      <td>NaN</td>\n",
       "      <td>...</td>\n",
       "      <td>NaN</td>\n",
       "      <td>NaN</td>\n",
       "      <td>False</td>\n",
       "      <td>2</td>\n",
       "      <td>29</td>\n",
       "      <td>False</td>\n",
       "      <td>False</td>\n",
       "      <td>NaN</td>\n",
       "      <td>en</td>\n",
       "      <td>None</td>\n",
       "    </tr>\n",
       "    <tr>\n",
       "      <th>155826</th>\n",
       "      <td>Fri May 15 23:58:38 +0000 2020</td>\n",
       "      <td>1261445921713328128</td>\n",
       "      <td>1261445921713328128</td>\n",
       "      <td>Can’t life just go back to normal now? Ashton ...</td>\n",
       "      <td>False</td>\n",
       "      <td>[0, 128]</td>\n",
       "      <td>{'hashtags': [{'text': 'punked', 'indices': [8...</td>\n",
       "      <td>&lt;a href=\"http://twitter.com/download/iphone\" r...</td>\n",
       "      <td>NaN</td>\n",
       "      <td>NaN</td>\n",
       "      <td>...</td>\n",
       "      <td>NaN</td>\n",
       "      <td>NaN</td>\n",
       "      <td>False</td>\n",
       "      <td>0</td>\n",
       "      <td>1</td>\n",
       "      <td>False</td>\n",
       "      <td>False</td>\n",
       "      <td>NaN</td>\n",
       "      <td>en</td>\n",
       "      <td>None</td>\n",
       "    </tr>\n",
       "    <tr>\n",
       "      <th>155827</th>\n",
       "      <td>Fri May 15 23:58:55 +0000 2020</td>\n",
       "      <td>1261445992060260355</td>\n",
       "      <td>1261445992060260355</td>\n",
       "      <td>#GA #COVID19 5/15 7p\\n\\n• Tests 301874; ⬆️16k;...</td>\n",
       "      <td>False</td>\n",
       "      <td>[0, 272]</td>\n",
       "      <td>{'hashtags': [{'text': 'GA', 'indices': [0, 3]...</td>\n",
       "      <td>&lt;a href=\"https://mobile.twitter.com\" rel=\"nofo...</td>\n",
       "      <td>NaN</td>\n",
       "      <td>NaN</td>\n",
       "      <td>...</td>\n",
       "      <td>NaN</td>\n",
       "      <td>NaN</td>\n",
       "      <td>False</td>\n",
       "      <td>4</td>\n",
       "      <td>6</td>\n",
       "      <td>False</td>\n",
       "      <td>False</td>\n",
       "      <td>False</td>\n",
       "      <td>en</td>\n",
       "      <td>(False, Location(country='United States', stat...</td>\n",
       "    </tr>\n",
       "    <tr>\n",
       "      <th>155828</th>\n",
       "      <td>Fri May 15 23:59:32 +0000 2020</td>\n",
       "      <td>1261446147169640448</td>\n",
       "      <td>1261446147169640448</td>\n",
       "      <td>Covid-19 Sniffer Dogs: The U.K.’s Latest Attem...</td>\n",
       "      <td>False</td>\n",
       "      <td>[0, 95]</td>\n",
       "      <td>{'hashtags': [{'text': 'Coronavirus', 'indices...</td>\n",
       "      <td>&lt;a href=\"https://mobile.twitter.com\" rel=\"nofo...</td>\n",
       "      <td>1.261445e+18</td>\n",
       "      <td>1.26144e+18</td>\n",
       "      <td>...</td>\n",
       "      <td>NaN</td>\n",
       "      <td>NaN</td>\n",
       "      <td>False</td>\n",
       "      <td>0</td>\n",
       "      <td>1</td>\n",
       "      <td>False</td>\n",
       "      <td>False</td>\n",
       "      <td>False</td>\n",
       "      <td>en</td>\n",
       "      <td>None</td>\n",
       "    </tr>\n",
       "  </tbody>\n",
       "</table>\n",
       "<p>5 rows × 26 columns</p>\n",
       "</div>"
      ],
      "text/plain": [
       "                            created_at                   id  \\\n",
       "155824  Fri May 15 23:59:03 +0000 2020  1261446025807462400   \n",
       "155825  Fri May 15 23:59:33 +0000 2020  1261446149988216832   \n",
       "155826  Fri May 15 23:58:38 +0000 2020  1261445921713328128   \n",
       "155827  Fri May 15 23:58:55 +0000 2020  1261445992060260355   \n",
       "155828  Fri May 15 23:59:32 +0000 2020  1261446147169640448   \n",
       "\n",
       "                     id_str  \\\n",
       "155824  1261446025807462400   \n",
       "155825  1261446149988216832   \n",
       "155826  1261445921713328128   \n",
       "155827  1261445992060260355   \n",
       "155828  1261446147169640448   \n",
       "\n",
       "                                                full_text truncated  \\\n",
       "155824  Fun Fact: When one person gets the #Cronavirus...     False   \n",
       "155825  With all the small and not so small papers (al...     False   \n",
       "155826  Can’t life just go back to normal now? Ashton ...     False   \n",
       "155827  #GA #COVID19 5/15 7p\\n\\n• Tests 301874; ⬆️16k;...     False   \n",
       "155828  Covid-19 Sniffer Dogs: The U.K.’s Latest Attem...     False   \n",
       "\n",
       "       display_text_range                                           entities  \\\n",
       "155824           [0, 132]  {'hashtags': [{'text': 'Cronavirus', 'indices'...   \n",
       "155825           [0, 266]  {'hashtags': [{'text': 'COVID19', 'indices': [...   \n",
       "155826           [0, 128]  {'hashtags': [{'text': 'punked', 'indices': [8...   \n",
       "155827           [0, 272]  {'hashtags': [{'text': 'GA', 'indices': [0, 3]...   \n",
       "155828            [0, 95]  {'hashtags': [{'text': 'Coronavirus', 'indices...   \n",
       "\n",
       "                                                   source  \\\n",
       "155824  <a href=\"http://twitter.com/download/android\" ...   \n",
       "155825  <a href=\"http://twitter.com/download/iphone\" r...   \n",
       "155826  <a href=\"http://twitter.com/download/iphone\" r...   \n",
       "155827  <a href=\"https://mobile.twitter.com\" rel=\"nofo...   \n",
       "155828  <a href=\"https://mobile.twitter.com\" rel=\"nofo...   \n",
       "\n",
       "        in_reply_to_status_id in_reply_to_status_id_str  ... place  \\\n",
       "155824                    NaN                       NaN  ...   NaN   \n",
       "155825                    NaN                       NaN  ...   NaN   \n",
       "155826                    NaN                       NaN  ...   NaN   \n",
       "155827                    NaN                       NaN  ...   NaN   \n",
       "155828           1.261445e+18               1.26144e+18  ...   NaN   \n",
       "\n",
       "        contributors is_quote_status retweet_count favorite_count favorited  \\\n",
       "155824           NaN           False             0              0     False   \n",
       "155825           NaN           False             2             29     False   \n",
       "155826           NaN           False             0              1     False   \n",
       "155827           NaN           False             4              6     False   \n",
       "155828           NaN           False             0              1     False   \n",
       "\n",
       "       retweeted  possibly_sensitive lang  \\\n",
       "155824     False                 NaN   en   \n",
       "155825     False                 NaN   en   \n",
       "155826     False                 NaN   en   \n",
       "155827     False               False   en   \n",
       "155828     False               False   en   \n",
       "\n",
       "                                                locations  \n",
       "155824                                               None  \n",
       "155825                                               None  \n",
       "155826                                               None  \n",
       "155827  (False, Location(country='United States', stat...  \n",
       "155828                                               None  \n",
       "\n",
       "[5 rows x 26 columns]"
      ]
     },
     "execution_count": 51,
     "metadata": {},
     "output_type": "execute_result"
    }
   ],
   "source": [
    "df = pd.concat(df_list)\n",
    "df.tail()"
   ]
  },
  {
   "cell_type": "markdown",
   "metadata": {},
   "source": [
    "### Temporal frequency of tweets"
   ]
  },
  {
   "cell_type": "code",
   "execution_count": 75,
   "metadata": {},
   "outputs": [
    {
     "data": {
      "image/png": "[encoded data removed]",
      "text/plain": [
       "<Figure size 1800x360 with 1 Axes>"
      ]
     },
     "metadata": {
      "needs_background": "light"
     },
     "output_type": "display_data"
    }
   ],
   "source": [
    "fig = plt.figure(figsize=(25,5))\n",
    "ax = fig.add_subplot(111)\n",
    "ax.set(title='Temporal tweet frequency worldwide', xlabel='Time', ylabel='Tweet frequency per hour')\n",
    "plt.hist(pd.to_datetime(df.created_at), bins = 24*10)\n",
    "plt.show()"
   ]
  },
  {
   "cell_type": "markdown",
   "metadata": {},
   "source": [
    "### Picking out the tweet texts"
   ]
  },
  {
   "cell_type": "code",
   "execution_count": 76,
   "metadata": {},
   "outputs": [
    {
     "ename": "KeyError",
     "evalue": "'text'",
     "output_type": "error",
     "traceback": [
      "\u001b[0;31m---------------------------------------------------------------------------\u001b[0m",
      "\u001b[0;31mKeyError\u001b[0m                                  Traceback (most recent call last)",
      "\u001b[0;32m~/anaconda3/lib/python3.7/site-packages/pandas/core/indexes/base.py\u001b[0m in \u001b[0;36mget_loc\u001b[0;34m(self, key, method, tolerance)\u001b[0m\n\u001b[1;32m   2656\u001b[0m             \u001b[0;32mtry\u001b[0m\u001b[0;34m:\u001b[0m\u001b[0;34m\u001b[0m\u001b[0;34m\u001b[0m\u001b[0m\n\u001b[0;32m-> 2657\u001b[0;31m                 \u001b[0;32mreturn\u001b[0m \u001b[0mself\u001b[0m\u001b[0;34m.\u001b[0m\u001b[0m_engine\u001b[0m\u001b[0;34m.\u001b[0m\u001b[0mget_loc\u001b[0m\u001b[0;34m(\u001b[0m\u001b[0mkey\u001b[0m\u001b[0;34m)\u001b[0m\u001b[0;34m\u001b[0m\u001b[0;34m\u001b[0m\u001b[0m\n\u001b[0m\u001b[1;32m   2658\u001b[0m             \u001b[0;32mexcept\u001b[0m \u001b[0mKeyError\u001b[0m\u001b[0;34m:\u001b[0m\u001b[0;34m\u001b[0m\u001b[0;34m\u001b[0m\u001b[0m\n",
      "\u001b[0;32mpandas/_libs/index.pyx\u001b[0m in \u001b[0;36mpandas._libs.index.IndexEngine.get_loc\u001b[0;34m()\u001b[0m\n",
      "\u001b[0;32mpandas/_libs/index.pyx\u001b[0m in \u001b[0;36mpandas._libs.index.IndexEngine.get_loc\u001b[0;34m()\u001b[0m\n",
      "\u001b[0;32mpandas/_libs/hashtable_class_helper.pxi\u001b[0m in \u001b[0;36mpandas._libs.hashtable.PyObjectHashTable.get_item\u001b[0;34m()\u001b[0m\n",
      "\u001b[0;32mpandas/_libs/hashtable_class_helper.pxi\u001b[0m in \u001b[0;36mpandas._libs.hashtable.PyObjectHashTable.get_item\u001b[0;34m()\u001b[0m\n",
      "\u001b[0;31mKeyError\u001b[0m: 'text'",
      "\nDuring handling of the above exception, another exception occurred:\n",
      "\u001b[0;31mKeyError\u001b[0m                                  Traceback (most recent call last)",
      "\u001b[0;32m<ipython-input-76-d011603af5be>\u001b[0m in \u001b[0;36m<module>\u001b[0;34m\u001b[0m\n\u001b[0;32m----> 1\u001b[0;31m \u001b[0mtext_en\u001b[0m \u001b[0;34m=\u001b[0m \u001b[0mdf\u001b[0m\u001b[0;34m[\u001b[0m\u001b[0;34m'text'\u001b[0m\u001b[0;34m]\u001b[0m\u001b[0;34m\u001b[0m\u001b[0;34m\u001b[0m\u001b[0m\n\u001b[0m\u001b[1;32m      2\u001b[0m \u001b[0mtext_en\u001b[0m\u001b[0;34m.\u001b[0m\u001b[0mtail\u001b[0m\u001b[0;34m(\u001b[0m\u001b[0;34m)\u001b[0m\u001b[0;34m\u001b[0m\u001b[0;34m\u001b[0m\u001b[0m\n",
      "\u001b[0;32m~/anaconda3/lib/python3.7/site-packages/pandas/core/frame.py\u001b[0m in \u001b[0;36m__getitem__\u001b[0;34m(self, key)\u001b[0m\n\u001b[1;32m   2925\u001b[0m             \u001b[0;32mif\u001b[0m \u001b[0mself\u001b[0m\u001b[0;34m.\u001b[0m\u001b[0mcolumns\u001b[0m\u001b[0;34m.\u001b[0m\u001b[0mnlevels\u001b[0m \u001b[0;34m>\u001b[0m \u001b[0;36m1\u001b[0m\u001b[0;34m:\u001b[0m\u001b[0;34m\u001b[0m\u001b[0;34m\u001b[0m\u001b[0m\n\u001b[1;32m   2926\u001b[0m                 \u001b[0;32mreturn\u001b[0m \u001b[0mself\u001b[0m\u001b[0;34m.\u001b[0m\u001b[0m_getitem_multilevel\u001b[0m\u001b[0;34m(\u001b[0m\u001b[0mkey\u001b[0m\u001b[0;34m)\u001b[0m\u001b[0;34m\u001b[0m\u001b[0;34m\u001b[0m\u001b[0m\n\u001b[0;32m-> 2927\u001b[0;31m             \u001b[0mindexer\u001b[0m \u001b[0;34m=\u001b[0m \u001b[0mself\u001b[0m\u001b[0;34m.\u001b[0m\u001b[0mcolumns\u001b[0m\u001b[0;34m.\u001b[0m\u001b[0mget_loc\u001b[0m\u001b[0;34m(\u001b[0m\u001b[0mkey\u001b[0m\u001b[0;34m)\u001b[0m\u001b[0;34m\u001b[0m\u001b[0;34m\u001b[0m\u001b[0m\n\u001b[0m\u001b[1;32m   2928\u001b[0m             \u001b[0;32mif\u001b[0m \u001b[0mis_integer\u001b[0m\u001b[0;34m(\u001b[0m\u001b[0mindexer\u001b[0m\u001b[0;34m)\u001b[0m\u001b[0;34m:\u001b[0m\u001b[0;34m\u001b[0m\u001b[0;34m\u001b[0m\u001b[0m\n\u001b[1;32m   2929\u001b[0m                 \u001b[0mindexer\u001b[0m \u001b[0;34m=\u001b[0m \u001b[0;34m[\u001b[0m\u001b[0mindexer\u001b[0m\u001b[0;34m]\u001b[0m\u001b[0;34m\u001b[0m\u001b[0;34m\u001b[0m\u001b[0m\n",
      "\u001b[0;32m~/anaconda3/lib/python3.7/site-packages/pandas/core/indexes/base.py\u001b[0m in \u001b[0;36mget_loc\u001b[0;34m(self, key, method, tolerance)\u001b[0m\n\u001b[1;32m   2657\u001b[0m                 \u001b[0;32mreturn\u001b[0m \u001b[0mself\u001b[0m\u001b[0;34m.\u001b[0m\u001b[0m_engine\u001b[0m\u001b[0;34m.\u001b[0m\u001b[0mget_loc\u001b[0m\u001b[0;34m(\u001b[0m\u001b[0mkey\u001b[0m\u001b[0;34m)\u001b[0m\u001b[0;34m\u001b[0m\u001b[0;34m\u001b[0m\u001b[0m\n\u001b[1;32m   2658\u001b[0m             \u001b[0;32mexcept\u001b[0m \u001b[0mKeyError\u001b[0m\u001b[0;34m:\u001b[0m\u001b[0;34m\u001b[0m\u001b[0;34m\u001b[0m\u001b[0m\n\u001b[0;32m-> 2659\u001b[0;31m                 \u001b[0;32mreturn\u001b[0m \u001b[0mself\u001b[0m\u001b[0;34m.\u001b[0m\u001b[0m_engine\u001b[0m\u001b[0;34m.\u001b[0m\u001b[0mget_loc\u001b[0m\u001b[0;34m(\u001b[0m\u001b[0mself\u001b[0m\u001b[0;34m.\u001b[0m\u001b[0m_maybe_cast_indexer\u001b[0m\u001b[0;34m(\u001b[0m\u001b[0mkey\u001b[0m\u001b[0;34m)\u001b[0m\u001b[0;34m)\u001b[0m\u001b[0;34m\u001b[0m\u001b[0;34m\u001b[0m\u001b[0m\n\u001b[0m\u001b[1;32m   2660\u001b[0m         \u001b[0mindexer\u001b[0m \u001b[0;34m=\u001b[0m \u001b[0mself\u001b[0m\u001b[0;34m.\u001b[0m\u001b[0mget_indexer\u001b[0m\u001b[0;34m(\u001b[0m\u001b[0;34m[\u001b[0m\u001b[0mkey\u001b[0m\u001b[0;34m]\u001b[0m\u001b[0;34m,\u001b[0m \u001b[0mmethod\u001b[0m\u001b[0;34m=\u001b[0m\u001b[0mmethod\u001b[0m\u001b[0;34m,\u001b[0m \u001b[0mtolerance\u001b[0m\u001b[0;34m=\u001b[0m\u001b[0mtolerance\u001b[0m\u001b[0;34m)\u001b[0m\u001b[0;34m\u001b[0m\u001b[0;34m\u001b[0m\u001b[0m\n\u001b[1;32m   2661\u001b[0m         \u001b[0;32mif\u001b[0m \u001b[0mindexer\u001b[0m\u001b[0;34m.\u001b[0m\u001b[0mndim\u001b[0m \u001b[0;34m>\u001b[0m \u001b[0;36m1\u001b[0m \u001b[0;32mor\u001b[0m \u001b[0mindexer\u001b[0m\u001b[0;34m.\u001b[0m\u001b[0msize\u001b[0m \u001b[0;34m>\u001b[0m \u001b[0;36m1\u001b[0m\u001b[0;34m:\u001b[0m\u001b[0;34m\u001b[0m\u001b[0;34m\u001b[0m\u001b[0m\n",
      "\u001b[0;32mpandas/_libs/index.pyx\u001b[0m in \u001b[0;36mpandas._libs.index.IndexEngine.get_loc\u001b[0;34m()\u001b[0m\n",
      "\u001b[0;32mpandas/_libs/index.pyx\u001b[0m in \u001b[0;36mpandas._libs.index.IndexEngine.get_loc\u001b[0;34m()\u001b[0m\n",
      "\u001b[0;32mpandas/_libs/hashtable_class_helper.pxi\u001b[0m in \u001b[0;36mpandas._libs.hashtable.PyObjectHashTable.get_item\u001b[0;34m()\u001b[0m\n",
      "\u001b[0;32mpandas/_libs/hashtable_class_helper.pxi\u001b[0m in \u001b[0;36mpandas._libs.hashtable.PyObjectHashTable.get_item\u001b[0;34m()\u001b[0m\n",
      "\u001b[0;31mKeyError\u001b[0m: 'text'"
     ]
    }
   ],
   "source": [
    "text_en = df['text']\n",
    "text_en.tail()"
   ]
  },
  {
   "cell_type": "markdown",
   "metadata": {},
   "source": [
    "### Removing URLs from tweets"
   ]
  },
  {
   "cell_type": "code",
   "execution_count": null,
   "metadata": {},
   "outputs": [],
   "source": [
    "text_en_lr = text_en.apply(lambda x: re.sub(r\"https\\S+\", \"\", str(x)))\n",
    "text_en_lr.head()"
   ]
  },
  {
   "cell_type": "markdown",
   "metadata": {},
   "source": [
    "### Converting all tweets to lowercase"
   ]
  },
  {
   "cell_type": "code",
   "execution_count": null,
   "metadata": {},
   "outputs": [],
   "source": [
    "text_en_lr_lc = text_en_lr.apply(lambda x: x.lower())\n",
    "text_en_lr_lc.head()"
   ]
  },
  {
   "cell_type": "markdown",
   "metadata": {},
   "source": [
    "### Removing punctuations"
   ]
  },
  {
   "cell_type": "code",
   "execution_count": null,
   "metadata": {},
   "outputs": [],
   "source": [
    "text_en_lr_lc_pr = text_en_lr_lc.apply(lambda x: x.translate(str.maketrans('', '', string.punctuation)))\n",
    "text_en_lr_lc_pr.head()"
   ]
  },
  {
   "cell_type": "markdown",
   "metadata": {},
   "source": [
    "### Removing stopwords"
   ]
  },
  {
   "cell_type": "code",
   "execution_count": null,
   "metadata": {},
   "outputs": [],
   "source": [
    "stop_words = set(stopwords.words('english'))\n",
    "stop_words.update(['#coronavirus', '#coronavirusoutbreak', '#coronavirusPandemic', '#covid19', '#covid_19', '#epitwitter', '#ihavecorona', 'amp', 'coronavirus', 'covid19'])\n",
    "\n",
    "text_en_lr_lc_pr_sr = text_en_lr_lc_pr.apply(lambda x: ' '.join([word for word in x.split() if word not in stop_words]))\n",
    "text_en_lr_lc_pr_sr.head()"
   ]
  },
  {
   "cell_type": "markdown",
   "metadata": {},
   "source": [
    "### Concatenating all the tweets into a list of words"
   ]
  },
  {
   "cell_type": "code",
   "execution_count": null,
   "metadata": {},
   "outputs": [],
   "source": [
    "word_list = [word for line in text_en_lr_lc_pr_sr for word in line.split()]\n",
    "word_list[:5]"
   ]
  },
  {
   "cell_type": "markdown",
   "metadata": {},
   "source": [
    "### Calculating the Term Frequency"
   ]
  },
  {
   "cell_type": "code",
   "execution_count": null,
   "metadata": {},
   "outputs": [],
   "source": [
    "sns.set(style=\"darkgrid\")\n",
    "counts = Counter(word_list).most_common(50)\n",
    "counts_df = pd.DataFrame(counts)\n",
    "counts_df\n",
    "counts_df.columns = ['word', 'frequency']\n",
    "\n",
    "fig, ax = plt.subplots(figsize = (12, 12))\n",
    "ax = sns.barplot(y=\"word\", x='frequency', ax = ax, data=counts_df)\n",
    "plt.savefig('wordcount_bar.png')"
   ]
  },
  {
   "cell_type": "code",
   "execution_count": null,
   "metadata": {},
   "outputs": [],
   "source": [
    "wordcloud = WordCloud(\n",
    "    background_color='black',\n",
    "    max_words=50,\n",
    "    max_font_size=40, \n",
    "    scale=5,\n",
    "    random_state=1,\n",
    "    collocations=False,\n",
    "    normalize_plurals=False\n",
    ").generate(' '.join(word_list))\n",
    "\n",
    "\n",
    "plt.figure(figsize = (12, 10), facecolor = None)\n",
    "plt.imshow(wordcloud)\n",
    "plt.axis(\"off\")\n",
    "plt.tight_layout(pad = 0)\n",
    "\n",
    "plt.savefig('wordcloud.png')\n",
    "\n"
   ]
  },
  {
   "cell_type": "markdown",
   "metadata": {},
   "source": [
    "## Sentiment Analysis"
   ]
  },
  {
   "cell_type": "markdown",
   "metadata": {},
   "source": [
    "### Getting the polarity scores for each tweet"
   ]
  },
  {
   "cell_type": "code",
   "execution_count": null,
   "metadata": {},
   "outputs": [],
   "source": [
    "sid = SentimentIntensityAnalyzer()\n",
    "sentiment_scores = text_en_lr_lc_pr_sr.apply(lambda x: sid.polarity_scores(x))\n",
    "sent_scores_df = pd.DataFrame(list(sentiment_scores))\n",
    "sent_scores_df.tail()"
   ]
  },
  {
   "cell_type": "markdown",
   "metadata": {},
   "source": [
    "### Classifying the scores based on the compount polarity value"
   ]
  },
  {
   "cell_type": "code",
   "execution_count": null,
   "metadata": {},
   "outputs": [],
   "source": [
    "sent_scores_df['val'] = sent_scores_df['compound'].apply(lambda x: 'neutral' if x == 0 else ('positive' if x > 0 else 'negative'))\n",
    "sent_scores_df.head()"
   ]
  },
  {
   "cell_type": "markdown",
   "metadata": {},
   "source": [
    "### Plotting the sentiment score counts"
   ]
  },
  {
   "cell_type": "code",
   "execution_count": null,
   "metadata": {},
   "outputs": [],
   "source": [
    "sent_counts = pd.DataFrame.from_dict(Counter(sent_scores_df['val']), orient = 'index').reset_index()\n",
    "sent_counts.columns = ['sentiment', 'count']\n",
    "\n",
    "sns.barplot(y=\"count\", x='sentiment', data=sent_counts)\n",
    "plt.savefig('sentiment.png')"
   ]
  },
  {
   "cell_type": "markdown",
   "metadata": {},
   "source": [
    "### Temporal plot of the sentiments"
   ]
  },
  {
   "cell_type": "code",
   "execution_count": null,
   "metadata": {},
   "outputs": [],
   "source": [
    "sentiments_time_df = pd.DataFrame()\n",
    "sentiments_time_df['time'] = df['created_at']\n",
    "sentiments_time_df['polarity'] = sent_scores_df['compound']\n",
    "sentiments_time_df.index = pd.to_datetime(sentiments_time_df['time'])\n",
    "\n",
    "\n",
    "ot = sentiments_time_df.sample(frac=.001)\n",
    "ot['time'] = pd.to_datetime(ot['time'])\n",
    "ot.index = pd.to_datetime(ot['time'])\n",
    "ot.sort_index(inplace=True)\n",
    "ot['expanding'] = ot['polarity'].expanding().mean()\n",
    "ot['rolling'] = ot['polarity'].rolling('1h').mean()\n",
    "\n",
    "fig = plt.figure(figsize=(20,5))\n",
    "ax = fig.add_subplot(111)\n",
    "ax.scatter(ot['time'],ot['polarity'], label='Tweet Sentiment', s = 10, color = 'y')\n",
    "ax.plot(ot['time'],ot['rolling'], color ='r', label='Rolling Mean', linewidth = 5)\n",
    "ax.plot(ot['time'],ot['expanding'], color='b', label='Expanding Mean', linewidth = 5)\n",
    "ax.set_xlim([dt.date(2020,5,1),dt.date(2020,5,9)])\n",
    "ax.set(title='Tweet Sentiments over Time', xlabel='Date', ylabel='Sentiment polarity')\n",
    "ax.legend(loc='best')\n",
    "fig.tight_layout()\n",
    "plt.savefig('temporal_sentiments.png')\n"
   ]
  },
  {
   "cell_type": "markdown",
   "metadata": {},
   "source": [
    "### Sentiment scores distribution"
   ]
  },
  {
   "cell_type": "code",
   "execution_count": null,
   "metadata": {},
   "outputs": [],
   "source": [
    "fig = plt.figure(figsize=(10,5))\n",
    "ax = fig.add_subplot(111)\n",
    "ax.set(title='Tweet Sentiments distribution', xlabel='polarity', ylabel='frequency')\n",
    "sns.distplot(sentiments_time_df['polarity'], bins=30, ax=ax)\n",
    "# plt.show()\n",
    "plt.savefig('sentiment_distribution.png')"
   ]
  },
  {
   "cell_type": "markdown",
   "metadata": {},
   "source": [
    "### Word cloud of polar words"
   ]
  },
  {
   "cell_type": "code",
   "execution_count": null,
   "metadata": {},
   "outputs": [],
   "source": [
    "polar_tweets_df = pd.DataFrame()\n",
    "polar_tweets_df['tweet'] = text_en_lr_lc_pr_sr\n",
    "polar_tweets_df['polarity'] = sent_scores_df['val']\n",
    "\n",
    "positive = polar_tweets_df[polar_tweets_df['polarity'] == 'positive']['tweet']\n",
    "negative = polar_tweets_df[polar_tweets_df['polarity'] == 'negative']['tweet']\n",
    "neutral = polar_tweets_df[polar_tweets_df['polarity'] == 'neutral']['tweet']\n",
    "\n",
    "positive_list = [word for line in positive for word in line.split()]\n",
    "negative_list = [word for line in negative for word in line.split()]\n",
    "neutral_list = [word for line in neutral for word in line.split()]\n",
    "\n",
    "positive_cloud = WordCloud(\n",
    "    background_color='black',\n",
    "    max_words=50,\n",
    "    max_font_size=40, \n",
    "    scale=5,\n",
    "    random_state=1,\n",
    "    collocations=False,\n",
    "    normalize_plurals=False\n",
    ").generate(' '.join(positive_list))\n",
    "\n",
    "negative_cloud = WordCloud(\n",
    "    background_color='black',\n",
    "    max_words=50,\n",
    "    max_font_size=40, \n",
    "    scale=5,\n",
    "    random_state=1,\n",
    "    collocations=False,\n",
    "    normalize_plurals=False\n",
    ").generate(' '.join(negative_list))\n",
    "\n",
    "neutral_cloud = WordCloud(\n",
    "    background_color='black',\n",
    "    max_words=50,\n",
    "    max_font_size=40, \n",
    "    scale=5,\n",
    "    random_state=1,\n",
    "    collocations=False,\n",
    "    normalize_plurals=False\n",
    ").generate(' '.join(neutral_list))\n",
    "\n",
    "\n",
    "fig, axs = plt.subplots(2, 2, figsize = (20, 12))\n",
    "# fig.suptitle('Clouds of polar words', fontsize = 30)\n",
    "fig.tight_layout(pad = 0)\n",
    "\n",
    "axs[0, 0].imshow(positive_cloud)\n",
    "axs[0, 0].set_title('Words from positive tweets', fontsize = 20)\n",
    "axs[0, 0].axis('off')\n",
    "# axs[0, 0].tight_layout(pad = 1)\n",
    "\n",
    "axs[0, 1].imshow(negative_cloud)\n",
    "axs[0, 1].set_title('Words from negative tweets', fontsize = 20)\n",
    "axs[0, 1].axis('off')\n",
    "# axs[0, 1].tight_layout(pad = 1)\n",
    "\n",
    "axs[1, 0].imshow(neutral_cloud)\n",
    "axs[1, 0].set_title('Words from neutral tweets', fontsize = 20)\n",
    "axs[1, 0].axis('off')\n",
    "# axs[1, 0].tight_layout(pad = 1)\n",
    "\n",
    "axs[1, 1].imshow(wordcloud)\n",
    "axs[1, 1].set_title('Words from all tweets', fontsize = 20)\n",
    "axs[1, 1].axis('off')\n",
    "# axs[1, 0].tight_layout(pad = 1)\n",
    "plt.savefig('joint_cloud.png')\n",
    "\n"
   ]
  },
  {
   "cell_type": "code",
   "execution_count": 90,
   "metadata": {},
   "outputs": [
    {
     "data": {
      "text/plain": [
       "Location(country='United States', state='California', known=True, id=440)"
      ]
     },
     "execution_count": 90,
     "metadata": {},
     "output_type": "execute_result"
    }
   ],
   "source": [
    "df.iloc[0].locations[1]"
   ]
  },
  {
   "cell_type": "code",
   "execution_count": 91,
   "metadata": {},
   "outputs": [],
   "source": [
    "import geopandas\n",
    "import geoplot\n",
    "\n",
    "world = geopandas.read_file(\n",
    "    geopandas.datasets.get_path('naturalearth_lowres')\n",
    ")\n",
    "boroughs = geopandas.read_file(\n",
    "    geoplot.datasets.get_path('nyc_boroughs')\n",
    ")\n",
    "collisions = geopandas.read_file(\n",
    "    geoplot.datasets.get_path('nyc_injurious_collisions')\n",
    ")"
   ]
  },
  {
   "cell_type": "code",
   "execution_count": 99,
   "metadata": {},
   "outputs": [],
   "source": [
    "def getCountry(loc):\n",
    "    if(loc):\n",
    "        return loc[1].country\n",
    "    return None"
   ]
  },
  {
   "cell_type": "code",
   "execution_count": 106,
   "metadata": {},
   "outputs": [],
   "source": [
    "locs = df.locations.apply(getCountry).dropna()"
   ]
  },
  {
   "cell_type": "code",
   "execution_count": 183,
   "metadata": {},
   "outputs": [],
   "source": [
    "country_df = pd.DataFrame.from_dict(Counter(locs), columns = ['count'], orient = 'index').reset_index()\n",
    "country_df.columns = ['country', 'count']"
   ]
  },
  {
   "cell_type": "code",
   "execution_count": 184,
   "metadata": {},
   "outputs": [
    {
     "data": {
      "text/plain": [
       "185"
      ]
     },
     "execution_count": 184,
     "metadata": {},
     "output_type": "execute_result"
    }
   ],
   "source": [
    "len(country_df)"
   ]
  },
  {
   "cell_type": "code",
   "execution_count": 227,
   "metadata": {},
   "outputs": [],
   "source": [
    "country_df.loc[country_df.country == 'United States', 'country'] = 'United States of America'\n",
    "country_df.loc[country_df.country == 'Vatican City', 'country'] = 'Vatican'\n",
    "country_df.loc[country_df.country == 'Antigua and Barbuda', 'country'] = 'Antigua and Barb.'\n",
    "country_df.loc[country_df.country == 'Bosnia and Herzegovina', 'country'] = 'Bosnia and Herz.'\n",
    "country_df.loc[country_df.country == 'Czech Republic', 'country'] = 'Czechia'\n",
    "country_df.loc[country_df.country == 'The Bahamas', 'country'] = 'Bahamas'\n",
    "country_df.loc[country_df.country == 'The Netherlands', 'country'] = 'Netherlands'\n",
    "\n",
    "country_df.to_csv('./data_full/locations/country_frequency.csv', index = None)"
   ]
  },
  {
   "cell_type": "code",
   "execution_count": 214,
   "metadata": {},
   "outputs": [
    {
     "data": {
      "text/html": [
       "<div>\n",
       "<style scoped>\n",
       "    .dataframe tbody tr th:only-of-type {\n",
       "        vertical-align: middle;\n",
       "    }\n",
       "\n",
       "    .dataframe tbody tr th {\n",
       "        vertical-align: top;\n",
       "    }\n",
       "\n",
       "    .dataframe thead th {\n",
       "        text-align: right;\n",
       "    }\n",
       "</style>\n",
       "<table border=\"1\" class=\"dataframe\">\n",
       "  <thead>\n",
       "    <tr style=\"text-align: right;\">\n",
       "      <th></th>\n",
       "      <th>country</th>\n",
       "      <th>count</th>\n",
       "    </tr>\n",
       "  </thead>\n",
       "  <tbody>\n",
       "    <tr>\n",
       "      <th>0</th>\n",
       "      <td>United States of America</td>\n",
       "      <td>600768</td>\n",
       "    </tr>\n",
       "    <tr>\n",
       "      <th>1</th>\n",
       "      <td>Nigeria</td>\n",
       "      <td>36756</td>\n",
       "    </tr>\n",
       "    <tr>\n",
       "      <th>2</th>\n",
       "      <td>India</td>\n",
       "      <td>167464</td>\n",
       "    </tr>\n",
       "    <tr>\n",
       "      <th>3</th>\n",
       "      <td>United Kingdom</td>\n",
       "      <td>189965</td>\n",
       "    </tr>\n",
       "    <tr>\n",
       "      <th>4</th>\n",
       "      <td>Saudi Arabia</td>\n",
       "      <td>2418</td>\n",
       "    </tr>\n",
       "  </tbody>\n",
       "</table>\n",
       "</div>"
      ],
      "text/plain": [
       "                    country   count\n",
       "0  United States of America  600768\n",
       "1                   Nigeria   36756\n",
       "2                     India  167464\n",
       "3            United Kingdom  189965\n",
       "4              Saudi Arabia    2418"
      ]
     },
     "execution_count": 214,
     "metadata": {},
     "output_type": "execute_result"
    }
   ],
   "source": [
    "country_df.head()"
   ]
  },
  {
   "cell_type": "code",
   "execution_count": 215,
   "metadata": {},
   "outputs": [
    {
     "name": "stdout",
     "output_type": "stream",
     "text": [
      "(160, 3)\n"
     ]
    },
    {
     "data": {
      "text/html": [
       "<div>\n",
       "<style scoped>\n",
       "    .dataframe tbody tr th:only-of-type {\n",
       "        vertical-align: middle;\n",
       "    }\n",
       "\n",
       "    .dataframe tbody tr th {\n",
       "        vertical-align: top;\n",
       "    }\n",
       "\n",
       "    .dataframe thead th {\n",
       "        text-align: right;\n",
       "    }\n",
       "</style>\n",
       "<table border=\"1\" class=\"dataframe\">\n",
       "  <thead>\n",
       "    <tr style=\"text-align: right;\">\n",
       "      <th></th>\n",
       "      <th>country</th>\n",
       "      <th>geometry</th>\n",
       "      <th>count</th>\n",
       "    </tr>\n",
       "  </thead>\n",
       "  <tbody>\n",
       "    <tr>\n",
       "      <th>123</th>\n",
       "      <td>United States of America</td>\n",
       "      <td>MULTIPOLYGON (((-95.16057 49.36949, -95.10282 ...</td>\n",
       "      <td>600768</td>\n",
       "    </tr>\n",
       "    <tr>\n",
       "      <th>67</th>\n",
       "      <td>United Kingdom</td>\n",
       "      <td>MULTIPOLYGON (((-7.24710 55.06932, -7.25674 55...</td>\n",
       "      <td>189965</td>\n",
       "    </tr>\n",
       "    <tr>\n",
       "      <th>7</th>\n",
       "      <td>India</td>\n",
       "      <td>MULTIPOLYGON (((77.80035 35.49541, 77.81533 35...</td>\n",
       "      <td>167464</td>\n",
       "    </tr>\n",
       "    <tr>\n",
       "      <th>124</th>\n",
       "      <td>Canada</td>\n",
       "      <td>MULTIPOLYGON (((-99.79271 67.80492, -99.79528 ...</td>\n",
       "      <td>79663</td>\n",
       "    </tr>\n",
       "    <tr>\n",
       "      <th>83</th>\n",
       "      <td>Nigeria</td>\n",
       "      <td>MULTIPOLYGON (((3.59640 11.69577, 3.64777 11.7...</td>\n",
       "      <td>36756</td>\n",
       "    </tr>\n",
       "  </tbody>\n",
       "</table>\n",
       "</div>"
      ],
      "text/plain": [
       "                      country  \\\n",
       "123  United States of America   \n",
       "67             United Kingdom   \n",
       "7                       India   \n",
       "124                    Canada   \n",
       "83                    Nigeria   \n",
       "\n",
       "                                              geometry   count  \n",
       "123  MULTIPOLYGON (((-95.16057 49.36949, -95.10282 ...  600768  \n",
       "67   MULTIPOLYGON (((-7.24710 55.06932, -7.25674 55...  189965  \n",
       "7    MULTIPOLYGON (((77.80035 35.49541, 77.81533 35...  167464  \n",
       "124  MULTIPOLYGON (((-99.79271 67.80492, -99.79528 ...   79663  \n",
       "83   MULTIPOLYGON (((3.59640 11.69577, 3.64777 11.7...   36756  "
      ]
     },
     "execution_count": 215,
     "metadata": {},
     "output_type": "execute_result"
    }
   ],
   "source": [
    "country_freq_df = pd.merge(gdf, country_df, on='country')\n",
    "print(country_freq_df.shape)\n",
    "country_freq_df.sort_values(['count'], ascending = False).head()"
   ]
  },
  {
   "cell_type": "code",
   "execution_count": 216,
   "metadata": {},
   "outputs": [
    {
     "data": {
      "text/html": [
       "<div>\n",
       "<style scoped>\n",
       "    .dataframe tbody tr th:only-of-type {\n",
       "        vertical-align: middle;\n",
       "    }\n",
       "\n",
       "    .dataframe tbody tr th {\n",
       "        vertical-align: top;\n",
       "    }\n",
       "\n",
       "    .dataframe thead th {\n",
       "        text-align: right;\n",
       "    }\n",
       "</style>\n",
       "<table border=\"1\" class=\"dataframe\">\n",
       "  <thead>\n",
       "    <tr style=\"text-align: right;\">\n",
       "      <th></th>\n",
       "      <th>country</th>\n",
       "      <th>count</th>\n",
       "    </tr>\n",
       "  </thead>\n",
       "  <tbody>\n",
       "    <tr>\n",
       "      <th>41</th>\n",
       "      <td>Antarctica</td>\n",
       "      <td>152</td>\n",
       "    </tr>\n",
       "    <tr>\n",
       "      <th>72</th>\n",
       "      <td>Federated States of Micronesia</td>\n",
       "      <td>63</td>\n",
       "    </tr>\n",
       "    <tr>\n",
       "      <th>76</th>\n",
       "      <td>Swaziland</td>\n",
       "      <td>77</td>\n",
       "    </tr>\n",
       "    <tr>\n",
       "      <th>101</th>\n",
       "      <td>Netherlands Antilles</td>\n",
       "      <td>7</td>\n",
       "    </tr>\n",
       "    <tr>\n",
       "      <th>105</th>\n",
       "      <td>Ivory Coast</td>\n",
       "      <td>71</td>\n",
       "    </tr>\n",
       "    <tr>\n",
       "      <th>120</th>\n",
       "      <td>Macau-China</td>\n",
       "      <td>59</td>\n",
       "    </tr>\n",
       "    <tr>\n",
       "      <th>122</th>\n",
       "      <td>Democratic Republic of Congo</td>\n",
       "      <td>84</td>\n",
       "    </tr>\n",
       "    <tr>\n",
       "      <th>133</th>\n",
       "      <td>Christmas Island</td>\n",
       "      <td>30</td>\n",
       "    </tr>\n",
       "    <tr>\n",
       "      <th>137</th>\n",
       "      <td>Cape Verde</td>\n",
       "      <td>9</td>\n",
       "    </tr>\n",
       "    <tr>\n",
       "      <th>143</th>\n",
       "      <td>Cayman Islands</td>\n",
       "      <td>162</td>\n",
       "    </tr>\n",
       "    <tr>\n",
       "      <th>156</th>\n",
       "      <td>Republic of Lithuania</td>\n",
       "      <td>61</td>\n",
       "    </tr>\n",
       "    <tr>\n",
       "      <th>158</th>\n",
       "      <td>The Gambia</td>\n",
       "      <td>75</td>\n",
       "    </tr>\n",
       "    <tr>\n",
       "      <th>162</th>\n",
       "      <td>British Virgin Islands</td>\n",
       "      <td>17</td>\n",
       "    </tr>\n",
       "    <tr>\n",
       "      <th>164</th>\n",
       "      <td>St. Lucia</td>\n",
       "      <td>37</td>\n",
       "    </tr>\n",
       "    <tr>\n",
       "      <th>166</th>\n",
       "      <td>Saint Kitts and Nevis</td>\n",
       "      <td>7</td>\n",
       "    </tr>\n",
       "    <tr>\n",
       "      <th>167</th>\n",
       "      <td>Martinique</td>\n",
       "      <td>13</td>\n",
       "    </tr>\n",
       "    <tr>\n",
       "      <th>168</th>\n",
       "      <td>Dominican Republic</td>\n",
       "      <td>92</td>\n",
       "    </tr>\n",
       "    <tr>\n",
       "      <th>174</th>\n",
       "      <td>Guadeloupe</td>\n",
       "      <td>9</td>\n",
       "    </tr>\n",
       "    <tr>\n",
       "      <th>175</th>\n",
       "      <td>French Polynesia</td>\n",
       "      <td>19</td>\n",
       "    </tr>\n",
       "    <tr>\n",
       "      <th>177</th>\n",
       "      <td>South Georgia and the South Sandwich Islands</td>\n",
       "      <td>1</td>\n",
       "    </tr>\n",
       "    <tr>\n",
       "      <th>179</th>\n",
       "      <td>Palestinian Territories</td>\n",
       "      <td>55</td>\n",
       "    </tr>\n",
       "    <tr>\n",
       "      <th>180</th>\n",
       "      <td>Turks and Caicos Islands</td>\n",
       "      <td>8</td>\n",
       "    </tr>\n",
       "    <tr>\n",
       "      <th>181</th>\n",
       "      <td>Republic of Latvia</td>\n",
       "      <td>2</td>\n",
       "    </tr>\n",
       "    <tr>\n",
       "      <th>182</th>\n",
       "      <td>Reunion</td>\n",
       "      <td>12</td>\n",
       "    </tr>\n",
       "    <tr>\n",
       "      <th>183</th>\n",
       "      <td>Saint Vincent and the Grenadines</td>\n",
       "      <td>5</td>\n",
       "    </tr>\n",
       "  </tbody>\n",
       "</table>\n",
       "</div>"
      ],
      "text/plain": [
       "                                          country  count\n",
       "41                                     Antarctica    152\n",
       "72                 Federated States of Micronesia     63\n",
       "76                                      Swaziland     77\n",
       "101                          Netherlands Antilles      7\n",
       "105                                   Ivory Coast     71\n",
       "120                                   Macau-China     59\n",
       "122                  Democratic Republic of Congo     84\n",
       "133                              Christmas Island     30\n",
       "137                                    Cape Verde      9\n",
       "143                                Cayman Islands    162\n",
       "156                         Republic of Lithuania     61\n",
       "158                                    The Gambia     75\n",
       "162                        British Virgin Islands     17\n",
       "164                                     St. Lucia     37\n",
       "166                         Saint Kitts and Nevis      7\n",
       "167                                    Martinique     13\n",
       "168                            Dominican Republic     92\n",
       "174                                    Guadeloupe      9\n",
       "175                              French Polynesia     19\n",
       "177  South Georgia and the South Sandwich Islands      1\n",
       "179                       Palestinian Territories     55\n",
       "180                      Turks and Caicos Islands      8\n",
       "181                            Republic of Latvia      2\n",
       "182                                       Reunion     12\n",
       "183              Saint Vincent and the Grenadines      5"
      ]
     },
     "execution_count": 216,
     "metadata": {},
     "output_type": "execute_result"
    }
   ],
   "source": [
    "country_df[country_df.country.isin(np.setdiff1d(country_df['country'], country_freq_df['country']))]"
   ]
  },
  {
   "cell_type": "code",
   "execution_count": 226,
   "metadata": {},
   "outputs": [
    {
     "data": {
      "text/plain": [
       "<matplotlib.axes._subplots.AxesSubplot at 0x7ff17e107c18>"
      ]
     },
     "execution_count": 226,
     "metadata": {},
     "output_type": "execute_result"
    },
    {
     "data": {
      "image/png": "[encoded data removed]",
      "text/plain": [
       "<Figure size 1440x1080 with 2 Axes>"
      ]
     },
     "metadata": {
      "needs_background": "light"
     },
     "output_type": "display_data"
    }
   ],
   "source": [
    "figZ, ax = plt.subplots(1, figsize=(20,15))\n",
    "ax.axis('off')\n",
    "country_freq_df.plot(ax=ax, column='count', legend=True, cmap = 'PuOr')"
   ]
  },
  {
   "cell_type": "code",
   "execution_count": 212,
   "metadata": {},
   "outputs": [
    {
     "data": {
      "text/html": [
       "<div>\n",
       "<style scoped>\n",
       "    .dataframe tbody tr th:only-of-type {\n",
       "        vertical-align: middle;\n",
       "    }\n",
       "\n",
       "    .dataframe tbody tr th {\n",
       "        vertical-align: top;\n",
       "    }\n",
       "\n",
       "    .dataframe thead th {\n",
       "        text-align: right;\n",
       "    }\n",
       "</style>\n",
       "<table border=\"1\" class=\"dataframe\">\n",
       "  <thead>\n",
       "    <tr style=\"text-align: right;\">\n",
       "      <th></th>\n",
       "      <th>country</th>\n",
       "      <th>geometry</th>\n",
       "    </tr>\n",
       "  </thead>\n",
       "  <tbody>\n",
       "    <tr>\n",
       "      <th>94</th>\n",
       "      <td>Netherlands</td>\n",
       "      <td>MULTIPOLYGON (((7.19459 53.24502, 7.19747 53.2...</td>\n",
       "    </tr>\n",
       "  </tbody>\n",
       "</table>\n",
       "</div>"
      ],
      "text/plain": [
       "        country                                           geometry\n",
       "94  Netherlands  MULTIPOLYGON (((7.19459 53.24502, 7.19747 53.2..."
      ]
     },
     "execution_count": 212,
     "metadata": {},
     "output_type": "execute_result"
    }
   ],
   "source": [
    "gdf[gdf['country'].str.match('.*Nethe.*')]"
   ]
  },
  {
   "cell_type": "code",
   "execution_count": 171,
   "metadata": {},
   "outputs": [
    {
     "data": {
      "text/plain": [
       "(19, 6)"
      ]
     },
     "execution_count": 171,
     "metadata": {},
     "output_type": "execute_result"
    }
   ],
   "source": [
    "world[world['name'].str.match('^S.*')].shape"
   ]
  },
  {
   "cell_type": "code",
   "execution_count": null,
   "metadata": {},
   "outputs": [],
   "source": []
  }
 ],
 "metadata": {
  "kernelspec": {
   "display_name": "Python 3",
   "language": "python",
   "name": "python3"
  },
  "language_info": {
   "codemirror_mode": {
    "name": "ipython",
    "version": 3
   },
   "file_extension": ".py",
   "mimetype": "text/x-python",
   "name": "python",
   "nbconvert_exporter": "python",
   "pygments_lexer": "ipython3",
   "version": "3.7.3"
  }
 },
 "nbformat": 4,
 "nbformat_minor": 4
}
